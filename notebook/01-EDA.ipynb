{
 "cells": [
  {
   "cell_type": "markdown",
   "metadata": {},
   "source": [
    "# Importing libraries"
   ]
  },
  {
   "cell_type": "code",
   "execution_count": 1,
   "metadata": {},
   "outputs": [],
   "source": [
    "# Data processing  \n",
    "# -----------------------------------------------------------------------  \n",
    "import pandas as pd  \n",
    "import numpy as np\n",
    "\n",
    "# Pandas options  \n",
    "# -----------------------------------------------------------------------  \n",
    "pd.options.display.max_colwidth = None\n",
    " \n",
    "# Path configuration for custom module imports  \n",
    "# -----------------------------------------------------------------------  \n",
    "import sys  \n",
    "sys.path.append('../')  # Adds the parent directory to the path for custom module imports  \n",
    "\n",
    "# Ignore warnings  \n",
    "# -----------------------------------------------------------------------  \n",
    "import warnings  \n",
    "warnings.filterwarnings(\"ignore\")\n",
    "\n",
    "# Custom functions\n",
    "# -----------------------------------------------------------------------\n",
    "from src.support_eda import *"
   ]
  },
  {
   "cell_type": "markdown",
   "metadata": {},
   "source": [
    "# Data loading"
   ]
  },
  {
   "cell_type": "code",
   "execution_count": 2,
   "metadata": {},
   "outputs": [],
   "source": [
    "df = pd.read_csv(\"../data/raw/Global_Superstore.csv\", encoding='latin-1')"
   ]
  },
  {
   "cell_type": "markdown",
   "metadata": {},
   "source": [
    "First, we rename the columns to remove the spaces."
   ]
  },
  {
   "cell_type": "code",
   "execution_count": 3,
   "metadata": {},
   "outputs": [
    {
     "data": {
      "text/plain": [
       "Index(['RowID', 'OrderID', 'OrderDate', 'ShipDate', 'ShipMode', 'CustomerID',\n",
       "       'CustomerName', 'Segment', 'City', 'State', 'Country', 'PostalCode',\n",
       "       'Market', 'Region', 'ProductID', 'Category', 'Sub-Category',\n",
       "       'ProductName', 'Sales', 'Quantity', 'Discount', 'Profit',\n",
       "       'ShippingCost', 'OrderPriority'],\n",
       "      dtype='object')"
      ]
     },
     "execution_count": 3,
     "metadata": {},
     "output_type": "execute_result"
    }
   ],
   "source": [
    "df.columns = [col.replace(' ', '') for col in df.columns]\n",
    "\n",
    "df.columns"
   ]
  },
  {
   "cell_type": "code",
   "execution_count": 4,
   "metadata": {},
   "outputs": [
    {
     "data": {
      "text/html": [
       "<div>\n",
       "<style scoped>\n",
       "    .dataframe tbody tr th:only-of-type {\n",
       "        vertical-align: middle;\n",
       "    }\n",
       "\n",
       "    .dataframe tbody tr th {\n",
       "        vertical-align: top;\n",
       "    }\n",
       "\n",
       "    .dataframe thead th {\n",
       "        text-align: right;\n",
       "    }\n",
       "</style>\n",
       "<table border=\"1\" class=\"dataframe\">\n",
       "  <thead>\n",
       "    <tr style=\"text-align: right;\">\n",
       "      <th></th>\n",
       "      <th>RowID</th>\n",
       "      <th>OrderID</th>\n",
       "      <th>OrderDate</th>\n",
       "      <th>ShipDate</th>\n",
       "      <th>ShipMode</th>\n",
       "      <th>CustomerID</th>\n",
       "      <th>CustomerName</th>\n",
       "      <th>Segment</th>\n",
       "      <th>City</th>\n",
       "      <th>State</th>\n",
       "      <th>...</th>\n",
       "      <th>ProductID</th>\n",
       "      <th>Category</th>\n",
       "      <th>Sub-Category</th>\n",
       "      <th>ProductName</th>\n",
       "      <th>Sales</th>\n",
       "      <th>Quantity</th>\n",
       "      <th>Discount</th>\n",
       "      <th>Profit</th>\n",
       "      <th>ShippingCost</th>\n",
       "      <th>OrderPriority</th>\n",
       "    </tr>\n",
       "  </thead>\n",
       "  <tbody>\n",
       "    <tr>\n",
       "      <th>0</th>\n",
       "      <td>32298</td>\n",
       "      <td>CA-2012-124891</td>\n",
       "      <td>31-07-2012</td>\n",
       "      <td>31-07-2012</td>\n",
       "      <td>Same Day</td>\n",
       "      <td>RH-19495</td>\n",
       "      <td>Rick Hansen</td>\n",
       "      <td>Consumer</td>\n",
       "      <td>New York City</td>\n",
       "      <td>New York</td>\n",
       "      <td>...</td>\n",
       "      <td>TEC-AC-10003033</td>\n",
       "      <td>Technology</td>\n",
       "      <td>Accessories</td>\n",
       "      <td>Plantronics CS510 - Over-the-Head monaural Wireless Headset System</td>\n",
       "      <td>2309.650</td>\n",
       "      <td>7</td>\n",
       "      <td>0.0</td>\n",
       "      <td>762.1845</td>\n",
       "      <td>933.57</td>\n",
       "      <td>Critical</td>\n",
       "    </tr>\n",
       "    <tr>\n",
       "      <th>1</th>\n",
       "      <td>26341</td>\n",
       "      <td>IN-2013-77878</td>\n",
       "      <td>05-02-2013</td>\n",
       "      <td>07-02-2013</td>\n",
       "      <td>Second Class</td>\n",
       "      <td>JR-16210</td>\n",
       "      <td>Justin Ritter</td>\n",
       "      <td>Corporate</td>\n",
       "      <td>Wollongong</td>\n",
       "      <td>New South Wales</td>\n",
       "      <td>...</td>\n",
       "      <td>FUR-CH-10003950</td>\n",
       "      <td>Furniture</td>\n",
       "      <td>Chairs</td>\n",
       "      <td>Novimex Executive Leather Armchair, Black</td>\n",
       "      <td>3709.395</td>\n",
       "      <td>9</td>\n",
       "      <td>0.1</td>\n",
       "      <td>-288.7650</td>\n",
       "      <td>923.63</td>\n",
       "      <td>Critical</td>\n",
       "    </tr>\n",
       "    <tr>\n",
       "      <th>2</th>\n",
       "      <td>25330</td>\n",
       "      <td>IN-2013-71249</td>\n",
       "      <td>17-10-2013</td>\n",
       "      <td>18-10-2013</td>\n",
       "      <td>First Class</td>\n",
       "      <td>CR-12730</td>\n",
       "      <td>Craig Reiter</td>\n",
       "      <td>Consumer</td>\n",
       "      <td>Brisbane</td>\n",
       "      <td>Queensland</td>\n",
       "      <td>...</td>\n",
       "      <td>TEC-PH-10004664</td>\n",
       "      <td>Technology</td>\n",
       "      <td>Phones</td>\n",
       "      <td>Nokia Smart Phone, with Caller ID</td>\n",
       "      <td>5175.171</td>\n",
       "      <td>9</td>\n",
       "      <td>0.1</td>\n",
       "      <td>919.9710</td>\n",
       "      <td>915.49</td>\n",
       "      <td>Medium</td>\n",
       "    </tr>\n",
       "    <tr>\n",
       "      <th>3</th>\n",
       "      <td>13524</td>\n",
       "      <td>ES-2013-1579342</td>\n",
       "      <td>28-01-2013</td>\n",
       "      <td>30-01-2013</td>\n",
       "      <td>First Class</td>\n",
       "      <td>KM-16375</td>\n",
       "      <td>Katherine Murray</td>\n",
       "      <td>Home Office</td>\n",
       "      <td>Berlin</td>\n",
       "      <td>Berlin</td>\n",
       "      <td>...</td>\n",
       "      <td>TEC-PH-10004583</td>\n",
       "      <td>Technology</td>\n",
       "      <td>Phones</td>\n",
       "      <td>Motorola Smart Phone, Cordless</td>\n",
       "      <td>2892.510</td>\n",
       "      <td>5</td>\n",
       "      <td>0.1</td>\n",
       "      <td>-96.5400</td>\n",
       "      <td>910.16</td>\n",
       "      <td>Medium</td>\n",
       "    </tr>\n",
       "    <tr>\n",
       "      <th>4</th>\n",
       "      <td>47221</td>\n",
       "      <td>SG-2013-4320</td>\n",
       "      <td>05-11-2013</td>\n",
       "      <td>06-11-2013</td>\n",
       "      <td>Same Day</td>\n",
       "      <td>RH-9495</td>\n",
       "      <td>Rick Hansen</td>\n",
       "      <td>Consumer</td>\n",
       "      <td>Dakar</td>\n",
       "      <td>Dakar</td>\n",
       "      <td>...</td>\n",
       "      <td>TEC-SHA-10000501</td>\n",
       "      <td>Technology</td>\n",
       "      <td>Copiers</td>\n",
       "      <td>Sharp Wireless Fax, High-Speed</td>\n",
       "      <td>2832.960</td>\n",
       "      <td>8</td>\n",
       "      <td>0.0</td>\n",
       "      <td>311.5200</td>\n",
       "      <td>903.04</td>\n",
       "      <td>Critical</td>\n",
       "    </tr>\n",
       "  </tbody>\n",
       "</table>\n",
       "<p>5 rows × 24 columns</p>\n",
       "</div>"
      ],
      "text/plain": [
       "   RowID          OrderID   OrderDate    ShipDate      ShipMode CustomerID  \\\n",
       "0  32298   CA-2012-124891  31-07-2012  31-07-2012      Same Day   RH-19495   \n",
       "1  26341    IN-2013-77878  05-02-2013  07-02-2013  Second Class   JR-16210   \n",
       "2  25330    IN-2013-71249  17-10-2013  18-10-2013   First Class   CR-12730   \n",
       "3  13524  ES-2013-1579342  28-01-2013  30-01-2013   First Class   KM-16375   \n",
       "4  47221     SG-2013-4320  05-11-2013  06-11-2013      Same Day    RH-9495   \n",
       "\n",
       "       CustomerName      Segment           City            State  ...  \\\n",
       "0       Rick Hansen     Consumer  New York City         New York  ...   \n",
       "1     Justin Ritter    Corporate     Wollongong  New South Wales  ...   \n",
       "2      Craig Reiter     Consumer       Brisbane       Queensland  ...   \n",
       "3  Katherine Murray  Home Office         Berlin           Berlin  ...   \n",
       "4       Rick Hansen     Consumer          Dakar            Dakar  ...   \n",
       "\n",
       "          ProductID    Category Sub-Category  \\\n",
       "0   TEC-AC-10003033  Technology  Accessories   \n",
       "1   FUR-CH-10003950   Furniture       Chairs   \n",
       "2   TEC-PH-10004664  Technology       Phones   \n",
       "3   TEC-PH-10004583  Technology       Phones   \n",
       "4  TEC-SHA-10000501  Technology      Copiers   \n",
       "\n",
       "                                                          ProductName  \\\n",
       "0  Plantronics CS510 - Over-the-Head monaural Wireless Headset System   \n",
       "1                           Novimex Executive Leather Armchair, Black   \n",
       "2                                   Nokia Smart Phone, with Caller ID   \n",
       "3                                      Motorola Smart Phone, Cordless   \n",
       "4                                      Sharp Wireless Fax, High-Speed   \n",
       "\n",
       "      Sales Quantity Discount    Profit  ShippingCost  OrderPriority  \n",
       "0  2309.650        7      0.0  762.1845        933.57       Critical  \n",
       "1  3709.395        9      0.1 -288.7650        923.63       Critical  \n",
       "2  5175.171        9      0.1  919.9710        915.49         Medium  \n",
       "3  2892.510        5      0.1  -96.5400        910.16         Medium  \n",
       "4  2832.960        8      0.0  311.5200        903.04       Critical  \n",
       "\n",
       "[5 rows x 24 columns]"
      ]
     },
     "execution_count": 4,
     "metadata": {},
     "output_type": "execute_result"
    }
   ],
   "source": [
    "df.head()"
   ]
  },
  {
   "cell_type": "markdown",
   "metadata": {},
   "source": [
    "Duplicate check."
   ]
  },
  {
   "cell_type": "code",
   "execution_count": 5,
   "metadata": {},
   "outputs": [
    {
     "data": {
      "text/plain": [
       "0"
      ]
     },
     "execution_count": 5,
     "metadata": {},
     "output_type": "execute_result"
    }
   ],
   "source": [
    "df.duplicated().sum()"
   ]
  },
  {
   "cell_type": "markdown",
   "metadata": {},
   "source": [
    "We don't have any duplicates."
   ]
  },
  {
   "cell_type": "markdown",
   "metadata": {},
   "source": [
    "# EDA"
   ]
  },
  {
   "cell_type": "markdown",
   "metadata": {},
   "source": [
    "## Numeric columns"
   ]
  },
  {
   "cell_type": "code",
   "execution_count": 6,
   "metadata": {},
   "outputs": [
    {
     "data": {
      "text/html": [
       "<div>\n",
       "<style scoped>\n",
       "    .dataframe tbody tr th:only-of-type {\n",
       "        vertical-align: middle;\n",
       "    }\n",
       "\n",
       "    .dataframe tbody tr th {\n",
       "        vertical-align: top;\n",
       "    }\n",
       "\n",
       "    .dataframe thead th {\n",
       "        text-align: right;\n",
       "    }\n",
       "</style>\n",
       "<table border=\"1\" class=\"dataframe\">\n",
       "  <thead>\n",
       "    <tr style=\"text-align: right;\">\n",
       "      <th></th>\n",
       "      <th>count</th>\n",
       "      <th>mean</th>\n",
       "      <th>std</th>\n",
       "      <th>min</th>\n",
       "      <th>25%</th>\n",
       "      <th>50%</th>\n",
       "      <th>75%</th>\n",
       "      <th>max</th>\n",
       "    </tr>\n",
       "  </thead>\n",
       "  <tbody>\n",
       "    <tr>\n",
       "      <th>RowID</th>\n",
       "      <td>51290.0</td>\n",
       "      <td>25645.50</td>\n",
       "      <td>14806.29</td>\n",
       "      <td>1.00</td>\n",
       "      <td>12823.25</td>\n",
       "      <td>25645.50</td>\n",
       "      <td>38467.75</td>\n",
       "      <td>51290.00</td>\n",
       "    </tr>\n",
       "    <tr>\n",
       "      <th>PostalCode</th>\n",
       "      <td>9994.0</td>\n",
       "      <td>55190.38</td>\n",
       "      <td>32063.69</td>\n",
       "      <td>1040.00</td>\n",
       "      <td>23223.00</td>\n",
       "      <td>56430.50</td>\n",
       "      <td>90008.00</td>\n",
       "      <td>99301.00</td>\n",
       "    </tr>\n",
       "    <tr>\n",
       "      <th>Sales</th>\n",
       "      <td>51290.0</td>\n",
       "      <td>246.49</td>\n",
       "      <td>487.57</td>\n",
       "      <td>0.44</td>\n",
       "      <td>30.76</td>\n",
       "      <td>85.05</td>\n",
       "      <td>251.05</td>\n",
       "      <td>22638.48</td>\n",
       "    </tr>\n",
       "    <tr>\n",
       "      <th>Quantity</th>\n",
       "      <td>51290.0</td>\n",
       "      <td>3.48</td>\n",
       "      <td>2.28</td>\n",
       "      <td>1.00</td>\n",
       "      <td>2.00</td>\n",
       "      <td>3.00</td>\n",
       "      <td>5.00</td>\n",
       "      <td>14.00</td>\n",
       "    </tr>\n",
       "    <tr>\n",
       "      <th>Discount</th>\n",
       "      <td>51290.0</td>\n",
       "      <td>0.14</td>\n",
       "      <td>0.21</td>\n",
       "      <td>0.00</td>\n",
       "      <td>0.00</td>\n",
       "      <td>0.00</td>\n",
       "      <td>0.20</td>\n",
       "      <td>0.85</td>\n",
       "    </tr>\n",
       "    <tr>\n",
       "      <th>Profit</th>\n",
       "      <td>51290.0</td>\n",
       "      <td>28.61</td>\n",
       "      <td>174.34</td>\n",
       "      <td>-6599.98</td>\n",
       "      <td>0.00</td>\n",
       "      <td>9.24</td>\n",
       "      <td>36.81</td>\n",
       "      <td>8399.98</td>\n",
       "    </tr>\n",
       "    <tr>\n",
       "      <th>ShippingCost</th>\n",
       "      <td>51290.0</td>\n",
       "      <td>26.38</td>\n",
       "      <td>57.30</td>\n",
       "      <td>0.00</td>\n",
       "      <td>2.61</td>\n",
       "      <td>7.79</td>\n",
       "      <td>24.45</td>\n",
       "      <td>933.57</td>\n",
       "    </tr>\n",
       "  </tbody>\n",
       "</table>\n",
       "</div>"
      ],
      "text/plain": [
       "                count      mean       std      min       25%       50%  \\\n",
       "RowID         51290.0  25645.50  14806.29     1.00  12823.25  25645.50   \n",
       "PostalCode     9994.0  55190.38  32063.69  1040.00  23223.00  56430.50   \n",
       "Sales         51290.0    246.49    487.57     0.44     30.76     85.05   \n",
       "Quantity      51290.0      3.48      2.28     1.00      2.00      3.00   \n",
       "Discount      51290.0      0.14      0.21     0.00      0.00      0.00   \n",
       "Profit        51290.0     28.61    174.34 -6599.98      0.00      9.24   \n",
       "ShippingCost  51290.0     26.38     57.30     0.00      2.61      7.79   \n",
       "\n",
       "                   75%       max  \n",
       "RowID         38467.75  51290.00  \n",
       "PostalCode    90008.00  99301.00  \n",
       "Sales           251.05  22638.48  \n",
       "Quantity          5.00     14.00  \n",
       "Discount          0.20      0.85  \n",
       "Profit           36.81   8399.98  \n",
       "ShippingCost     24.45    933.57  "
      ]
     },
     "execution_count": 6,
     "metadata": {},
     "output_type": "execute_result"
    }
   ],
   "source": [
    "df.describe().T.round(2)"
   ]
  },
  {
   "cell_type": "markdown",
   "metadata": {},
   "source": [
    "`RowID`: We have a total of 51,290 values corresponding to a unique identifier for the rows.\n",
    "\n",
    "`PostalCode`: Postal code. There are many null values, and it does not provide relevant information since additional context would be required.\n",
    "\n",
    "`Sales`: Sales revenue. It shows a wide dispersion, ranging from values below 1 to over 20,000, with an average of 246.49.\n",
    "\n",
    "`Quantity`: Integer value ranging from 1 unit to a maximum of 14, with an average of between 3 and 4 units per transaction.\n",
    "\n",
    "`Discount`: Discount percentage expressed as a fraction. It has a minimum of 0, corresponding to entries without discounts, up to a value of 0.85, which represents an 85% discount. The average discount is 14%.\n",
    "\n",
    "`Profit`: Profit obtained from the transaction. The average is 28.61, with a minimum of -6,600 (indicating losses), a maximum of 8,400, and a dispersion of 174.\n",
    "\n",
    "`ShippingCost`: The shipping cost. It has a maximum of 933 and a minimum of 0, indicating some transactions either have no shipping cost or it is free. Its dispersion is smaller, at 57 units."
   ]
  },
  {
   "cell_type": "markdown",
   "metadata": {},
   "source": [
    "## Categoric columns"
   ]
  },
  {
   "cell_type": "code",
   "execution_count": 7,
   "metadata": {},
   "outputs": [],
   "source": [
    "cat_cols = df.select_dtypes(include=['O', 'category']).columns.to_list()"
   ]
  },
  {
   "cell_type": "code",
   "execution_count": 8,
   "metadata": {},
   "outputs": [
    {
     "name": "stdout",
     "output_type": "stream",
     "text": [
      "Current column: OrderID\n",
      "--------------------------------------------------\n",
      "The number of unique values for this category is 25035\n"
     ]
    },
    {
     "data": {
      "text/html": [
       "<div>\n",
       "<style scoped>\n",
       "    .dataframe tbody tr th:only-of-type {\n",
       "        vertical-align: middle;\n",
       "    }\n",
       "\n",
       "    .dataframe tbody tr th {\n",
       "        vertical-align: top;\n",
       "    }\n",
       "\n",
       "    .dataframe thead th {\n",
       "        text-align: right;\n",
       "    }\n",
       "</style>\n",
       "<table border=\"1\" class=\"dataframe\">\n",
       "  <thead>\n",
       "    <tr style=\"text-align: right;\">\n",
       "      <th></th>\n",
       "      <th>count</th>\n",
       "      <th>proportion</th>\n",
       "    </tr>\n",
       "    <tr>\n",
       "      <th>OrderID</th>\n",
       "      <th></th>\n",
       "      <th></th>\n",
       "    </tr>\n",
       "  </thead>\n",
       "  <tbody>\n",
       "    <tr>\n",
       "      <th>CA-2014-100111</th>\n",
       "      <td>14</td>\n",
       "      <td>0.0</td>\n",
       "    </tr>\n",
       "    <tr>\n",
       "      <th>NI-2014-8880</th>\n",
       "      <td>13</td>\n",
       "      <td>0.0</td>\n",
       "    </tr>\n",
       "    <tr>\n",
       "      <th>TO-2014-9950</th>\n",
       "      <td>13</td>\n",
       "      <td>0.0</td>\n",
       "    </tr>\n",
       "    <tr>\n",
       "      <th>IN-2012-41261</th>\n",
       "      <td>13</td>\n",
       "      <td>0.0</td>\n",
       "    </tr>\n",
       "    <tr>\n",
       "      <th>IN-2013-42311</th>\n",
       "      <td>13</td>\n",
       "      <td>0.0</td>\n",
       "    </tr>\n",
       "  </tbody>\n",
       "</table>\n",
       "</div>"
      ],
      "text/plain": [
       "                count  proportion\n",
       "OrderID                          \n",
       "CA-2014-100111     14         0.0\n",
       "NI-2014-8880       13         0.0\n",
       "TO-2014-9950       13         0.0\n",
       "IN-2012-41261      13         0.0\n",
       "IN-2013-42311      13         0.0"
      ]
     },
     "metadata": {},
     "output_type": "display_data"
    },
    {
     "name": "stdout",
     "output_type": "stream",
     "text": [
      "Number of entries: 51290.\n",
      "Number of OrderID distinct entries: 25035.\n",
      "Number of OrderID duplicated: 26255.\n",
      "Number of OrderID null: 0.\n",
      "\n",
      "\n",
      "\n",
      "Current column: OrderDate\n",
      "--------------------------------------------------\n",
      "The number of unique values for this category is 1430\n"
     ]
    },
    {
     "data": {
      "text/html": [
       "<div>\n",
       "<style scoped>\n",
       "    .dataframe tbody tr th:only-of-type {\n",
       "        vertical-align: middle;\n",
       "    }\n",
       "\n",
       "    .dataframe tbody tr th {\n",
       "        vertical-align: top;\n",
       "    }\n",
       "\n",
       "    .dataframe thead th {\n",
       "        text-align: right;\n",
       "    }\n",
       "</style>\n",
       "<table border=\"1\" class=\"dataframe\">\n",
       "  <thead>\n",
       "    <tr style=\"text-align: right;\">\n",
       "      <th></th>\n",
       "      <th>count</th>\n",
       "      <th>proportion</th>\n",
       "    </tr>\n",
       "    <tr>\n",
       "      <th>OrderDate</th>\n",
       "      <th></th>\n",
       "      <th></th>\n",
       "    </tr>\n",
       "  </thead>\n",
       "  <tbody>\n",
       "    <tr>\n",
       "      <th>18-06-2014</th>\n",
       "      <td>135</td>\n",
       "      <td>0.0</td>\n",
       "    </tr>\n",
       "    <tr>\n",
       "      <th>18-11-2014</th>\n",
       "      <td>127</td>\n",
       "      <td>0.0</td>\n",
       "    </tr>\n",
       "    <tr>\n",
       "      <th>03-09-2014</th>\n",
       "      <td>126</td>\n",
       "      <td>0.0</td>\n",
       "    </tr>\n",
       "    <tr>\n",
       "      <th>20-11-2014</th>\n",
       "      <td>118</td>\n",
       "      <td>0.0</td>\n",
       "    </tr>\n",
       "    <tr>\n",
       "      <th>29-12-2014</th>\n",
       "      <td>116</td>\n",
       "      <td>0.0</td>\n",
       "    </tr>\n",
       "  </tbody>\n",
       "</table>\n",
       "</div>"
      ],
      "text/plain": [
       "            count  proportion\n",
       "OrderDate                    \n",
       "18-06-2014    135         0.0\n",
       "18-11-2014    127         0.0\n",
       "03-09-2014    126         0.0\n",
       "20-11-2014    118         0.0\n",
       "29-12-2014    116         0.0"
      ]
     },
     "metadata": {},
     "output_type": "display_data"
    },
    {
     "name": "stdout",
     "output_type": "stream",
     "text": [
      "Number of entries: 51290.\n",
      "Number of OrderDate distinct entries: 1430.\n",
      "Number of OrderDate duplicated: 49860.\n",
      "Number of OrderDate null: 0.\n",
      "\n",
      "\n",
      "\n",
      "Current column: ShipDate\n",
      "--------------------------------------------------\n",
      "The number of unique values for this category is 1464\n"
     ]
    },
    {
     "data": {
      "text/html": [
       "<div>\n",
       "<style scoped>\n",
       "    .dataframe tbody tr th:only-of-type {\n",
       "        vertical-align: middle;\n",
       "    }\n",
       "\n",
       "    .dataframe tbody tr th {\n",
       "        vertical-align: top;\n",
       "    }\n",
       "\n",
       "    .dataframe thead th {\n",
       "        text-align: right;\n",
       "    }\n",
       "</style>\n",
       "<table border=\"1\" class=\"dataframe\">\n",
       "  <thead>\n",
       "    <tr style=\"text-align: right;\">\n",
       "      <th></th>\n",
       "      <th>count</th>\n",
       "      <th>proportion</th>\n",
       "    </tr>\n",
       "    <tr>\n",
       "      <th>ShipDate</th>\n",
       "      <th></th>\n",
       "      <th></th>\n",
       "    </tr>\n",
       "  </thead>\n",
       "  <tbody>\n",
       "    <tr>\n",
       "      <th>22-11-2014</th>\n",
       "      <td>130</td>\n",
       "      <td>0.0</td>\n",
       "    </tr>\n",
       "    <tr>\n",
       "      <th>07-09-2014</th>\n",
       "      <td>115</td>\n",
       "      <td>0.0</td>\n",
       "    </tr>\n",
       "    <tr>\n",
       "      <th>07-12-2014</th>\n",
       "      <td>101</td>\n",
       "      <td>0.0</td>\n",
       "    </tr>\n",
       "    <tr>\n",
       "      <th>17-11-2014</th>\n",
       "      <td>101</td>\n",
       "      <td>0.0</td>\n",
       "    </tr>\n",
       "    <tr>\n",
       "      <th>29-11-2014</th>\n",
       "      <td>100</td>\n",
       "      <td>0.0</td>\n",
       "    </tr>\n",
       "  </tbody>\n",
       "</table>\n",
       "</div>"
      ],
      "text/plain": [
       "            count  proportion\n",
       "ShipDate                     \n",
       "22-11-2014    130         0.0\n",
       "07-09-2014    115         0.0\n",
       "07-12-2014    101         0.0\n",
       "17-11-2014    101         0.0\n",
       "29-11-2014    100         0.0"
      ]
     },
     "metadata": {},
     "output_type": "display_data"
    },
    {
     "name": "stdout",
     "output_type": "stream",
     "text": [
      "Number of entries: 51290.\n",
      "Number of ShipDate distinct entries: 1464.\n",
      "Number of ShipDate duplicated: 49826.\n",
      "Number of ShipDate null: 0.\n",
      "\n",
      "\n",
      "\n",
      "Current column: ShipMode\n",
      "--------------------------------------------------\n",
      "The number of unique values for this category is 4\n"
     ]
    },
    {
     "data": {
      "text/html": [
       "<div>\n",
       "<style scoped>\n",
       "    .dataframe tbody tr th:only-of-type {\n",
       "        vertical-align: middle;\n",
       "    }\n",
       "\n",
       "    .dataframe tbody tr th {\n",
       "        vertical-align: top;\n",
       "    }\n",
       "\n",
       "    .dataframe thead th {\n",
       "        text-align: right;\n",
       "    }\n",
       "</style>\n",
       "<table border=\"1\" class=\"dataframe\">\n",
       "  <thead>\n",
       "    <tr style=\"text-align: right;\">\n",
       "      <th></th>\n",
       "      <th>count</th>\n",
       "      <th>proportion</th>\n",
       "    </tr>\n",
       "    <tr>\n",
       "      <th>ShipMode</th>\n",
       "      <th></th>\n",
       "      <th></th>\n",
       "    </tr>\n",
       "  </thead>\n",
       "  <tbody>\n",
       "    <tr>\n",
       "      <th>Standard Class</th>\n",
       "      <td>30775</td>\n",
       "      <td>0.60</td>\n",
       "    </tr>\n",
       "    <tr>\n",
       "      <th>Second Class</th>\n",
       "      <td>10309</td>\n",
       "      <td>0.20</td>\n",
       "    </tr>\n",
       "    <tr>\n",
       "      <th>First Class</th>\n",
       "      <td>7505</td>\n",
       "      <td>0.15</td>\n",
       "    </tr>\n",
       "    <tr>\n",
       "      <th>Same Day</th>\n",
       "      <td>2701</td>\n",
       "      <td>0.05</td>\n",
       "    </tr>\n",
       "  </tbody>\n",
       "</table>\n",
       "</div>"
      ],
      "text/plain": [
       "                count  proportion\n",
       "ShipMode                         \n",
       "Standard Class  30775        0.60\n",
       "Second Class    10309        0.20\n",
       "First Class      7505        0.15\n",
       "Same Day         2701        0.05"
      ]
     },
     "metadata": {},
     "output_type": "display_data"
    },
    {
     "name": "stdout",
     "output_type": "stream",
     "text": [
      "Number of entries: 51290.\n",
      "Number of ShipMode distinct entries: 4.\n",
      "Number of ShipMode duplicated: 51286.\n",
      "Number of ShipMode null: 0.\n",
      "\n",
      "\n",
      "\n",
      "Current column: CustomerID\n",
      "--------------------------------------------------\n",
      "The number of unique values for this category is 1590\n"
     ]
    },
    {
     "data": {
      "text/html": [
       "<div>\n",
       "<style scoped>\n",
       "    .dataframe tbody tr th:only-of-type {\n",
       "        vertical-align: middle;\n",
       "    }\n",
       "\n",
       "    .dataframe tbody tr th {\n",
       "        vertical-align: top;\n",
       "    }\n",
       "\n",
       "    .dataframe thead th {\n",
       "        text-align: right;\n",
       "    }\n",
       "</style>\n",
       "<table border=\"1\" class=\"dataframe\">\n",
       "  <thead>\n",
       "    <tr style=\"text-align: right;\">\n",
       "      <th></th>\n",
       "      <th>count</th>\n",
       "      <th>proportion</th>\n",
       "    </tr>\n",
       "    <tr>\n",
       "      <th>CustomerID</th>\n",
       "      <th></th>\n",
       "      <th></th>\n",
       "    </tr>\n",
       "  </thead>\n",
       "  <tbody>\n",
       "    <tr>\n",
       "      <th>PO-18850</th>\n",
       "      <td>97</td>\n",
       "      <td>0.0</td>\n",
       "    </tr>\n",
       "    <tr>\n",
       "      <th>BE-11335</th>\n",
       "      <td>94</td>\n",
       "      <td>0.0</td>\n",
       "    </tr>\n",
       "    <tr>\n",
       "      <th>JG-15805</th>\n",
       "      <td>90</td>\n",
       "      <td>0.0</td>\n",
       "    </tr>\n",
       "    <tr>\n",
       "      <th>SW-20755</th>\n",
       "      <td>89</td>\n",
       "      <td>0.0</td>\n",
       "    </tr>\n",
       "    <tr>\n",
       "      <th>EM-13960</th>\n",
       "      <td>85</td>\n",
       "      <td>0.0</td>\n",
       "    </tr>\n",
       "  </tbody>\n",
       "</table>\n",
       "</div>"
      ],
      "text/plain": [
       "            count  proportion\n",
       "CustomerID                   \n",
       "PO-18850       97         0.0\n",
       "BE-11335       94         0.0\n",
       "JG-15805       90         0.0\n",
       "SW-20755       89         0.0\n",
       "EM-13960       85         0.0"
      ]
     },
     "metadata": {},
     "output_type": "display_data"
    },
    {
     "name": "stdout",
     "output_type": "stream",
     "text": [
      "Number of entries: 51290.\n",
      "Number of CustomerID distinct entries: 1590.\n",
      "Number of CustomerID duplicated: 49700.\n",
      "Number of CustomerID null: 0.\n",
      "\n",
      "\n",
      "\n",
      "Current column: CustomerName\n",
      "--------------------------------------------------\n",
      "The number of unique values for this category is 795\n"
     ]
    },
    {
     "data": {
      "text/html": [
       "<div>\n",
       "<style scoped>\n",
       "    .dataframe tbody tr th:only-of-type {\n",
       "        vertical-align: middle;\n",
       "    }\n",
       "\n",
       "    .dataframe tbody tr th {\n",
       "        vertical-align: top;\n",
       "    }\n",
       "\n",
       "    .dataframe thead th {\n",
       "        text-align: right;\n",
       "    }\n",
       "</style>\n",
       "<table border=\"1\" class=\"dataframe\">\n",
       "  <thead>\n",
       "    <tr style=\"text-align: right;\">\n",
       "      <th></th>\n",
       "      <th>count</th>\n",
       "      <th>proportion</th>\n",
       "    </tr>\n",
       "    <tr>\n",
       "      <th>CustomerName</th>\n",
       "      <th></th>\n",
       "      <th></th>\n",
       "    </tr>\n",
       "  </thead>\n",
       "  <tbody>\n",
       "    <tr>\n",
       "      <th>Muhammed Yedwab</th>\n",
       "      <td>108</td>\n",
       "      <td>0.0</td>\n",
       "    </tr>\n",
       "    <tr>\n",
       "      <th>Steven Ward</th>\n",
       "      <td>106</td>\n",
       "      <td>0.0</td>\n",
       "    </tr>\n",
       "    <tr>\n",
       "      <th>Gary Hwang</th>\n",
       "      <td>102</td>\n",
       "      <td>0.0</td>\n",
       "    </tr>\n",
       "    <tr>\n",
       "      <th>Patrick O'Brill</th>\n",
       "      <td>102</td>\n",
       "      <td>0.0</td>\n",
       "    </tr>\n",
       "    <tr>\n",
       "      <th>Bill Eplett</th>\n",
       "      <td>102</td>\n",
       "      <td>0.0</td>\n",
       "    </tr>\n",
       "  </tbody>\n",
       "</table>\n",
       "</div>"
      ],
      "text/plain": [
       "                 count  proportion\n",
       "CustomerName                      \n",
       "Muhammed Yedwab    108         0.0\n",
       "Steven Ward        106         0.0\n",
       "Gary Hwang         102         0.0\n",
       "Patrick O'Brill    102         0.0\n",
       "Bill Eplett        102         0.0"
      ]
     },
     "metadata": {},
     "output_type": "display_data"
    },
    {
     "name": "stdout",
     "output_type": "stream",
     "text": [
      "Number of entries: 51290.\n",
      "Number of CustomerName distinct entries: 795.\n",
      "Number of CustomerName duplicated: 50495.\n",
      "Number of CustomerName null: 0.\n",
      "\n",
      "\n",
      "\n",
      "Current column: Segment\n",
      "--------------------------------------------------\n",
      "The number of unique values for this category is 3\n"
     ]
    },
    {
     "data": {
      "text/html": [
       "<div>\n",
       "<style scoped>\n",
       "    .dataframe tbody tr th:only-of-type {\n",
       "        vertical-align: middle;\n",
       "    }\n",
       "\n",
       "    .dataframe tbody tr th {\n",
       "        vertical-align: top;\n",
       "    }\n",
       "\n",
       "    .dataframe thead th {\n",
       "        text-align: right;\n",
       "    }\n",
       "</style>\n",
       "<table border=\"1\" class=\"dataframe\">\n",
       "  <thead>\n",
       "    <tr style=\"text-align: right;\">\n",
       "      <th></th>\n",
       "      <th>count</th>\n",
       "      <th>proportion</th>\n",
       "    </tr>\n",
       "    <tr>\n",
       "      <th>Segment</th>\n",
       "      <th></th>\n",
       "      <th></th>\n",
       "    </tr>\n",
       "  </thead>\n",
       "  <tbody>\n",
       "    <tr>\n",
       "      <th>Consumer</th>\n",
       "      <td>26518</td>\n",
       "      <td>0.52</td>\n",
       "    </tr>\n",
       "    <tr>\n",
       "      <th>Corporate</th>\n",
       "      <td>15429</td>\n",
       "      <td>0.30</td>\n",
       "    </tr>\n",
       "    <tr>\n",
       "      <th>Home Office</th>\n",
       "      <td>9343</td>\n",
       "      <td>0.18</td>\n",
       "    </tr>\n",
       "  </tbody>\n",
       "</table>\n",
       "</div>"
      ],
      "text/plain": [
       "             count  proportion\n",
       "Segment                       \n",
       "Consumer     26518        0.52\n",
       "Corporate    15429        0.30\n",
       "Home Office   9343        0.18"
      ]
     },
     "metadata": {},
     "output_type": "display_data"
    },
    {
     "name": "stdout",
     "output_type": "stream",
     "text": [
      "Number of entries: 51290.\n",
      "Number of Segment distinct entries: 3.\n",
      "Number of Segment duplicated: 51287.\n",
      "Number of Segment null: 0.\n",
      "\n",
      "\n",
      "\n",
      "Current column: City\n",
      "--------------------------------------------------\n",
      "The number of unique values for this category is 3636\n"
     ]
    },
    {
     "data": {
      "text/html": [
       "<div>\n",
       "<style scoped>\n",
       "    .dataframe tbody tr th:only-of-type {\n",
       "        vertical-align: middle;\n",
       "    }\n",
       "\n",
       "    .dataframe tbody tr th {\n",
       "        vertical-align: top;\n",
       "    }\n",
       "\n",
       "    .dataframe thead th {\n",
       "        text-align: right;\n",
       "    }\n",
       "</style>\n",
       "<table border=\"1\" class=\"dataframe\">\n",
       "  <thead>\n",
       "    <tr style=\"text-align: right;\">\n",
       "      <th></th>\n",
       "      <th>count</th>\n",
       "      <th>proportion</th>\n",
       "    </tr>\n",
       "    <tr>\n",
       "      <th>City</th>\n",
       "      <th></th>\n",
       "      <th></th>\n",
       "    </tr>\n",
       "  </thead>\n",
       "  <tbody>\n",
       "    <tr>\n",
       "      <th>New York City</th>\n",
       "      <td>915</td>\n",
       "      <td>0.02</td>\n",
       "    </tr>\n",
       "    <tr>\n",
       "      <th>Los Angeles</th>\n",
       "      <td>747</td>\n",
       "      <td>0.01</td>\n",
       "    </tr>\n",
       "    <tr>\n",
       "      <th>Philadelphia</th>\n",
       "      <td>537</td>\n",
       "      <td>0.01</td>\n",
       "    </tr>\n",
       "    <tr>\n",
       "      <th>San Francisco</th>\n",
       "      <td>510</td>\n",
       "      <td>0.01</td>\n",
       "    </tr>\n",
       "    <tr>\n",
       "      <th>Santo Domingo</th>\n",
       "      <td>443</td>\n",
       "      <td>0.01</td>\n",
       "    </tr>\n",
       "  </tbody>\n",
       "</table>\n",
       "</div>"
      ],
      "text/plain": [
       "               count  proportion\n",
       "City                            \n",
       "New York City    915        0.02\n",
       "Los Angeles      747        0.01\n",
       "Philadelphia     537        0.01\n",
       "San Francisco    510        0.01\n",
       "Santo Domingo    443        0.01"
      ]
     },
     "metadata": {},
     "output_type": "display_data"
    },
    {
     "name": "stdout",
     "output_type": "stream",
     "text": [
      "Number of entries: 51290.\n",
      "Number of City distinct entries: 3636.\n",
      "Number of City duplicated: 47654.\n",
      "Number of City null: 0.\n",
      "\n",
      "\n",
      "\n",
      "Current column: State\n",
      "--------------------------------------------------\n",
      "The number of unique values for this category is 1094\n"
     ]
    },
    {
     "data": {
      "text/html": [
       "<div>\n",
       "<style scoped>\n",
       "    .dataframe tbody tr th:only-of-type {\n",
       "        vertical-align: middle;\n",
       "    }\n",
       "\n",
       "    .dataframe tbody tr th {\n",
       "        vertical-align: top;\n",
       "    }\n",
       "\n",
       "    .dataframe thead th {\n",
       "        text-align: right;\n",
       "    }\n",
       "</style>\n",
       "<table border=\"1\" class=\"dataframe\">\n",
       "  <thead>\n",
       "    <tr style=\"text-align: right;\">\n",
       "      <th></th>\n",
       "      <th>count</th>\n",
       "      <th>proportion</th>\n",
       "    </tr>\n",
       "    <tr>\n",
       "      <th>State</th>\n",
       "      <th></th>\n",
       "      <th></th>\n",
       "    </tr>\n",
       "  </thead>\n",
       "  <tbody>\n",
       "    <tr>\n",
       "      <th>California</th>\n",
       "      <td>2001</td>\n",
       "      <td>0.04</td>\n",
       "    </tr>\n",
       "    <tr>\n",
       "      <th>England</th>\n",
       "      <td>1499</td>\n",
       "      <td>0.03</td>\n",
       "    </tr>\n",
       "    <tr>\n",
       "      <th>New York</th>\n",
       "      <td>1128</td>\n",
       "      <td>0.02</td>\n",
       "    </tr>\n",
       "    <tr>\n",
       "      <th>Texas</th>\n",
       "      <td>985</td>\n",
       "      <td>0.02</td>\n",
       "    </tr>\n",
       "    <tr>\n",
       "      <th>Ile-de-France</th>\n",
       "      <td>981</td>\n",
       "      <td>0.02</td>\n",
       "    </tr>\n",
       "  </tbody>\n",
       "</table>\n",
       "</div>"
      ],
      "text/plain": [
       "               count  proportion\n",
       "State                           \n",
       "California      2001        0.04\n",
       "England         1499        0.03\n",
       "New York        1128        0.02\n",
       "Texas            985        0.02\n",
       "Ile-de-France    981        0.02"
      ]
     },
     "metadata": {},
     "output_type": "display_data"
    },
    {
     "name": "stdout",
     "output_type": "stream",
     "text": [
      "Number of entries: 51290.\n",
      "Number of State distinct entries: 1094.\n",
      "Number of State duplicated: 50196.\n",
      "Number of State null: 0.\n",
      "\n",
      "\n",
      "\n",
      "Current column: Country\n",
      "--------------------------------------------------\n",
      "The number of unique values for this category is 147\n"
     ]
    },
    {
     "data": {
      "text/html": [
       "<div>\n",
       "<style scoped>\n",
       "    .dataframe tbody tr th:only-of-type {\n",
       "        vertical-align: middle;\n",
       "    }\n",
       "\n",
       "    .dataframe tbody tr th {\n",
       "        vertical-align: top;\n",
       "    }\n",
       "\n",
       "    .dataframe thead th {\n",
       "        text-align: right;\n",
       "    }\n",
       "</style>\n",
       "<table border=\"1\" class=\"dataframe\">\n",
       "  <thead>\n",
       "    <tr style=\"text-align: right;\">\n",
       "      <th></th>\n",
       "      <th>count</th>\n",
       "      <th>proportion</th>\n",
       "    </tr>\n",
       "    <tr>\n",
       "      <th>Country</th>\n",
       "      <th></th>\n",
       "      <th></th>\n",
       "    </tr>\n",
       "  </thead>\n",
       "  <tbody>\n",
       "    <tr>\n",
       "      <th>United States</th>\n",
       "      <td>9994</td>\n",
       "      <td>0.19</td>\n",
       "    </tr>\n",
       "    <tr>\n",
       "      <th>Australia</th>\n",
       "      <td>2837</td>\n",
       "      <td>0.06</td>\n",
       "    </tr>\n",
       "    <tr>\n",
       "      <th>France</th>\n",
       "      <td>2827</td>\n",
       "      <td>0.06</td>\n",
       "    </tr>\n",
       "    <tr>\n",
       "      <th>Mexico</th>\n",
       "      <td>2644</td>\n",
       "      <td>0.05</td>\n",
       "    </tr>\n",
       "    <tr>\n",
       "      <th>Germany</th>\n",
       "      <td>2065</td>\n",
       "      <td>0.04</td>\n",
       "    </tr>\n",
       "  </tbody>\n",
       "</table>\n",
       "</div>"
      ],
      "text/plain": [
       "               count  proportion\n",
       "Country                         \n",
       "United States   9994        0.19\n",
       "Australia       2837        0.06\n",
       "France          2827        0.06\n",
       "Mexico          2644        0.05\n",
       "Germany         2065        0.04"
      ]
     },
     "metadata": {},
     "output_type": "display_data"
    },
    {
     "name": "stdout",
     "output_type": "stream",
     "text": [
      "Number of entries: 51290.\n",
      "Number of Country distinct entries: 147.\n",
      "Number of Country duplicated: 51143.\n",
      "Number of Country null: 0.\n",
      "\n",
      "\n",
      "\n",
      "Current column: Market\n",
      "--------------------------------------------------\n",
      "The number of unique values for this category is 7\n"
     ]
    },
    {
     "data": {
      "text/html": [
       "<div>\n",
       "<style scoped>\n",
       "    .dataframe tbody tr th:only-of-type {\n",
       "        vertical-align: middle;\n",
       "    }\n",
       "\n",
       "    .dataframe tbody tr th {\n",
       "        vertical-align: top;\n",
       "    }\n",
       "\n",
       "    .dataframe thead th {\n",
       "        text-align: right;\n",
       "    }\n",
       "</style>\n",
       "<table border=\"1\" class=\"dataframe\">\n",
       "  <thead>\n",
       "    <tr style=\"text-align: right;\">\n",
       "      <th></th>\n",
       "      <th>count</th>\n",
       "      <th>proportion</th>\n",
       "    </tr>\n",
       "    <tr>\n",
       "      <th>Market</th>\n",
       "      <th></th>\n",
       "      <th></th>\n",
       "    </tr>\n",
       "  </thead>\n",
       "  <tbody>\n",
       "    <tr>\n",
       "      <th>APAC</th>\n",
       "      <td>11002</td>\n",
       "      <td>0.21</td>\n",
       "    </tr>\n",
       "    <tr>\n",
       "      <th>LATAM</th>\n",
       "      <td>10294</td>\n",
       "      <td>0.20</td>\n",
       "    </tr>\n",
       "    <tr>\n",
       "      <th>EU</th>\n",
       "      <td>10000</td>\n",
       "      <td>0.19</td>\n",
       "    </tr>\n",
       "    <tr>\n",
       "      <th>US</th>\n",
       "      <td>9994</td>\n",
       "      <td>0.19</td>\n",
       "    </tr>\n",
       "    <tr>\n",
       "      <th>EMEA</th>\n",
       "      <td>5029</td>\n",
       "      <td>0.10</td>\n",
       "    </tr>\n",
       "  </tbody>\n",
       "</table>\n",
       "</div>"
      ],
      "text/plain": [
       "        count  proportion\n",
       "Market                   \n",
       "APAC    11002        0.21\n",
       "LATAM   10294        0.20\n",
       "EU      10000        0.19\n",
       "US       9994        0.19\n",
       "EMEA     5029        0.10"
      ]
     },
     "metadata": {},
     "output_type": "display_data"
    },
    {
     "name": "stdout",
     "output_type": "stream",
     "text": [
      "Number of entries: 51290.\n",
      "Number of Market distinct entries: 7.\n",
      "Number of Market duplicated: 51283.\n",
      "Number of Market null: 0.\n",
      "\n",
      "\n",
      "\n",
      "Current column: Region\n",
      "--------------------------------------------------\n",
      "The number of unique values for this category is 13\n"
     ]
    },
    {
     "data": {
      "text/html": [
       "<div>\n",
       "<style scoped>\n",
       "    .dataframe tbody tr th:only-of-type {\n",
       "        vertical-align: middle;\n",
       "    }\n",
       "\n",
       "    .dataframe tbody tr th {\n",
       "        vertical-align: top;\n",
       "    }\n",
       "\n",
       "    .dataframe thead th {\n",
       "        text-align: right;\n",
       "    }\n",
       "</style>\n",
       "<table border=\"1\" class=\"dataframe\">\n",
       "  <thead>\n",
       "    <tr style=\"text-align: right;\">\n",
       "      <th></th>\n",
       "      <th>count</th>\n",
       "      <th>proportion</th>\n",
       "    </tr>\n",
       "    <tr>\n",
       "      <th>Region</th>\n",
       "      <th></th>\n",
       "      <th></th>\n",
       "    </tr>\n",
       "  </thead>\n",
       "  <tbody>\n",
       "    <tr>\n",
       "      <th>Central</th>\n",
       "      <td>11117</td>\n",
       "      <td>0.22</td>\n",
       "    </tr>\n",
       "    <tr>\n",
       "      <th>South</th>\n",
       "      <td>6645</td>\n",
       "      <td>0.13</td>\n",
       "    </tr>\n",
       "    <tr>\n",
       "      <th>EMEA</th>\n",
       "      <td>5029</td>\n",
       "      <td>0.10</td>\n",
       "    </tr>\n",
       "    <tr>\n",
       "      <th>North</th>\n",
       "      <td>4785</td>\n",
       "      <td>0.09</td>\n",
       "    </tr>\n",
       "    <tr>\n",
       "      <th>Africa</th>\n",
       "      <td>4587</td>\n",
       "      <td>0.09</td>\n",
       "    </tr>\n",
       "  </tbody>\n",
       "</table>\n",
       "</div>"
      ],
      "text/plain": [
       "         count  proportion\n",
       "Region                    \n",
       "Central  11117        0.22\n",
       "South     6645        0.13\n",
       "EMEA      5029        0.10\n",
       "North     4785        0.09\n",
       "Africa    4587        0.09"
      ]
     },
     "metadata": {},
     "output_type": "display_data"
    },
    {
     "name": "stdout",
     "output_type": "stream",
     "text": [
      "Number of entries: 51290.\n",
      "Number of Region distinct entries: 13.\n",
      "Number of Region duplicated: 51277.\n",
      "Number of Region null: 0.\n",
      "\n",
      "\n",
      "\n",
      "Current column: ProductID\n",
      "--------------------------------------------------\n",
      "The number of unique values for this category is 10292\n"
     ]
    },
    {
     "data": {
      "text/html": [
       "<div>\n",
       "<style scoped>\n",
       "    .dataframe tbody tr th:only-of-type {\n",
       "        vertical-align: middle;\n",
       "    }\n",
       "\n",
       "    .dataframe tbody tr th {\n",
       "        vertical-align: top;\n",
       "    }\n",
       "\n",
       "    .dataframe thead th {\n",
       "        text-align: right;\n",
       "    }\n",
       "</style>\n",
       "<table border=\"1\" class=\"dataframe\">\n",
       "  <thead>\n",
       "    <tr style=\"text-align: right;\">\n",
       "      <th></th>\n",
       "      <th>count</th>\n",
       "      <th>proportion</th>\n",
       "    </tr>\n",
       "    <tr>\n",
       "      <th>ProductID</th>\n",
       "      <th></th>\n",
       "      <th></th>\n",
       "    </tr>\n",
       "  </thead>\n",
       "  <tbody>\n",
       "    <tr>\n",
       "      <th>OFF-AR-10003651</th>\n",
       "      <td>35</td>\n",
       "      <td>0.0</td>\n",
       "    </tr>\n",
       "    <tr>\n",
       "      <th>OFF-AR-10003829</th>\n",
       "      <td>31</td>\n",
       "      <td>0.0</td>\n",
       "    </tr>\n",
       "    <tr>\n",
       "      <th>OFF-BI-10003708</th>\n",
       "      <td>30</td>\n",
       "      <td>0.0</td>\n",
       "    </tr>\n",
       "    <tr>\n",
       "      <th>OFF-BI-10002799</th>\n",
       "      <td>30</td>\n",
       "      <td>0.0</td>\n",
       "    </tr>\n",
       "    <tr>\n",
       "      <th>FUR-CH-10003354</th>\n",
       "      <td>28</td>\n",
       "      <td>0.0</td>\n",
       "    </tr>\n",
       "  </tbody>\n",
       "</table>\n",
       "</div>"
      ],
      "text/plain": [
       "                 count  proportion\n",
       "ProductID                         \n",
       "OFF-AR-10003651     35         0.0\n",
       "OFF-AR-10003829     31         0.0\n",
       "OFF-BI-10003708     30         0.0\n",
       "OFF-BI-10002799     30         0.0\n",
       "FUR-CH-10003354     28         0.0"
      ]
     },
     "metadata": {},
     "output_type": "display_data"
    },
    {
     "name": "stdout",
     "output_type": "stream",
     "text": [
      "Number of entries: 51290.\n",
      "Number of ProductID distinct entries: 10292.\n",
      "Number of ProductID duplicated: 40998.\n",
      "Number of ProductID null: 0.\n",
      "\n",
      "\n",
      "\n",
      "Current column: Category\n",
      "--------------------------------------------------\n",
      "The number of unique values for this category is 3\n"
     ]
    },
    {
     "data": {
      "text/html": [
       "<div>\n",
       "<style scoped>\n",
       "    .dataframe tbody tr th:only-of-type {\n",
       "        vertical-align: middle;\n",
       "    }\n",
       "\n",
       "    .dataframe tbody tr th {\n",
       "        vertical-align: top;\n",
       "    }\n",
       "\n",
       "    .dataframe thead th {\n",
       "        text-align: right;\n",
       "    }\n",
       "</style>\n",
       "<table border=\"1\" class=\"dataframe\">\n",
       "  <thead>\n",
       "    <tr style=\"text-align: right;\">\n",
       "      <th></th>\n",
       "      <th>count</th>\n",
       "      <th>proportion</th>\n",
       "    </tr>\n",
       "    <tr>\n",
       "      <th>Category</th>\n",
       "      <th></th>\n",
       "      <th></th>\n",
       "    </tr>\n",
       "  </thead>\n",
       "  <tbody>\n",
       "    <tr>\n",
       "      <th>Office Supplies</th>\n",
       "      <td>31273</td>\n",
       "      <td>0.61</td>\n",
       "    </tr>\n",
       "    <tr>\n",
       "      <th>Technology</th>\n",
       "      <td>10141</td>\n",
       "      <td>0.20</td>\n",
       "    </tr>\n",
       "    <tr>\n",
       "      <th>Furniture</th>\n",
       "      <td>9876</td>\n",
       "      <td>0.19</td>\n",
       "    </tr>\n",
       "  </tbody>\n",
       "</table>\n",
       "</div>"
      ],
      "text/plain": [
       "                 count  proportion\n",
       "Category                          \n",
       "Office Supplies  31273        0.61\n",
       "Technology       10141        0.20\n",
       "Furniture         9876        0.19"
      ]
     },
     "metadata": {},
     "output_type": "display_data"
    },
    {
     "name": "stdout",
     "output_type": "stream",
     "text": [
      "Number of entries: 51290.\n",
      "Number of Category distinct entries: 3.\n",
      "Number of Category duplicated: 51287.\n",
      "Number of Category null: 0.\n",
      "\n",
      "\n",
      "\n",
      "Current column: Sub-Category\n",
      "--------------------------------------------------\n",
      "The number of unique values for this category is 17\n"
     ]
    },
    {
     "data": {
      "text/html": [
       "<div>\n",
       "<style scoped>\n",
       "    .dataframe tbody tr th:only-of-type {\n",
       "        vertical-align: middle;\n",
       "    }\n",
       "\n",
       "    .dataframe tbody tr th {\n",
       "        vertical-align: top;\n",
       "    }\n",
       "\n",
       "    .dataframe thead th {\n",
       "        text-align: right;\n",
       "    }\n",
       "</style>\n",
       "<table border=\"1\" class=\"dataframe\">\n",
       "  <thead>\n",
       "    <tr style=\"text-align: right;\">\n",
       "      <th></th>\n",
       "      <th>count</th>\n",
       "      <th>proportion</th>\n",
       "    </tr>\n",
       "    <tr>\n",
       "      <th>Sub-Category</th>\n",
       "      <th></th>\n",
       "      <th></th>\n",
       "    </tr>\n",
       "  </thead>\n",
       "  <tbody>\n",
       "    <tr>\n",
       "      <th>Binders</th>\n",
       "      <td>6152</td>\n",
       "      <td>0.12</td>\n",
       "    </tr>\n",
       "    <tr>\n",
       "      <th>Storage</th>\n",
       "      <td>5059</td>\n",
       "      <td>0.10</td>\n",
       "    </tr>\n",
       "    <tr>\n",
       "      <th>Art</th>\n",
       "      <td>4883</td>\n",
       "      <td>0.10</td>\n",
       "    </tr>\n",
       "    <tr>\n",
       "      <th>Paper</th>\n",
       "      <td>3538</td>\n",
       "      <td>0.07</td>\n",
       "    </tr>\n",
       "    <tr>\n",
       "      <th>Chairs</th>\n",
       "      <td>3434</td>\n",
       "      <td>0.07</td>\n",
       "    </tr>\n",
       "  </tbody>\n",
       "</table>\n",
       "</div>"
      ],
      "text/plain": [
       "              count  proportion\n",
       "Sub-Category                   \n",
       "Binders        6152        0.12\n",
       "Storage        5059        0.10\n",
       "Art            4883        0.10\n",
       "Paper          3538        0.07\n",
       "Chairs         3434        0.07"
      ]
     },
     "metadata": {},
     "output_type": "display_data"
    },
    {
     "name": "stdout",
     "output_type": "stream",
     "text": [
      "Number of entries: 51290.\n",
      "Number of Sub-Category distinct entries: 17.\n",
      "Number of Sub-Category duplicated: 51273.\n",
      "Number of Sub-Category null: 0.\n",
      "\n",
      "\n",
      "\n",
      "Current column: ProductName\n",
      "--------------------------------------------------\n",
      "The number of unique values for this category is 3788\n"
     ]
    },
    {
     "data": {
      "text/html": [
       "<div>\n",
       "<style scoped>\n",
       "    .dataframe tbody tr th:only-of-type {\n",
       "        vertical-align: middle;\n",
       "    }\n",
       "\n",
       "    .dataframe tbody tr th {\n",
       "        vertical-align: top;\n",
       "    }\n",
       "\n",
       "    .dataframe thead th {\n",
       "        text-align: right;\n",
       "    }\n",
       "</style>\n",
       "<table border=\"1\" class=\"dataframe\">\n",
       "  <thead>\n",
       "    <tr style=\"text-align: right;\">\n",
       "      <th></th>\n",
       "      <th>count</th>\n",
       "      <th>proportion</th>\n",
       "    </tr>\n",
       "    <tr>\n",
       "      <th>ProductName</th>\n",
       "      <th></th>\n",
       "      <th></th>\n",
       "    </tr>\n",
       "  </thead>\n",
       "  <tbody>\n",
       "    <tr>\n",
       "      <th>Staples</th>\n",
       "      <td>227</td>\n",
       "      <td>0.0</td>\n",
       "    </tr>\n",
       "    <tr>\n",
       "      <th>Cardinal Index Tab, Clear</th>\n",
       "      <td>92</td>\n",
       "      <td>0.0</td>\n",
       "    </tr>\n",
       "    <tr>\n",
       "      <th>Eldon File Cart, Single Width</th>\n",
       "      <td>90</td>\n",
       "      <td>0.0</td>\n",
       "    </tr>\n",
       "    <tr>\n",
       "      <th>Rogers File Cart, Single Width</th>\n",
       "      <td>84</td>\n",
       "      <td>0.0</td>\n",
       "    </tr>\n",
       "    <tr>\n",
       "      <th>Ibico Index Tab, Clear</th>\n",
       "      <td>83</td>\n",
       "      <td>0.0</td>\n",
       "    </tr>\n",
       "  </tbody>\n",
       "</table>\n",
       "</div>"
      ],
      "text/plain": [
       "                                count  proportion\n",
       "ProductName                                      \n",
       "Staples                           227         0.0\n",
       "Cardinal Index Tab, Clear          92         0.0\n",
       "Eldon File Cart, Single Width      90         0.0\n",
       "Rogers File Cart, Single Width     84         0.0\n",
       "Ibico Index Tab, Clear             83         0.0"
      ]
     },
     "metadata": {},
     "output_type": "display_data"
    },
    {
     "name": "stdout",
     "output_type": "stream",
     "text": [
      "Number of entries: 51290.\n",
      "Number of ProductName distinct entries: 3788.\n",
      "Number of ProductName duplicated: 47502.\n",
      "Number of ProductName null: 0.\n",
      "\n",
      "\n",
      "\n",
      "Current column: OrderPriority\n",
      "--------------------------------------------------\n",
      "The number of unique values for this category is 4\n"
     ]
    },
    {
     "data": {
      "text/html": [
       "<div>\n",
       "<style scoped>\n",
       "    .dataframe tbody tr th:only-of-type {\n",
       "        vertical-align: middle;\n",
       "    }\n",
       "\n",
       "    .dataframe tbody tr th {\n",
       "        vertical-align: top;\n",
       "    }\n",
       "\n",
       "    .dataframe thead th {\n",
       "        text-align: right;\n",
       "    }\n",
       "</style>\n",
       "<table border=\"1\" class=\"dataframe\">\n",
       "  <thead>\n",
       "    <tr style=\"text-align: right;\">\n",
       "      <th></th>\n",
       "      <th>count</th>\n",
       "      <th>proportion</th>\n",
       "    </tr>\n",
       "    <tr>\n",
       "      <th>OrderPriority</th>\n",
       "      <th></th>\n",
       "      <th></th>\n",
       "    </tr>\n",
       "  </thead>\n",
       "  <tbody>\n",
       "    <tr>\n",
       "      <th>Medium</th>\n",
       "      <td>29433</td>\n",
       "      <td>0.57</td>\n",
       "    </tr>\n",
       "    <tr>\n",
       "      <th>High</th>\n",
       "      <td>15501</td>\n",
       "      <td>0.30</td>\n",
       "    </tr>\n",
       "    <tr>\n",
       "      <th>Critical</th>\n",
       "      <td>3932</td>\n",
       "      <td>0.08</td>\n",
       "    </tr>\n",
       "    <tr>\n",
       "      <th>Low</th>\n",
       "      <td>2424</td>\n",
       "      <td>0.05</td>\n",
       "    </tr>\n",
       "  </tbody>\n",
       "</table>\n",
       "</div>"
      ],
      "text/plain": [
       "               count  proportion\n",
       "OrderPriority                   \n",
       "Medium         29433        0.57\n",
       "High           15501        0.30\n",
       "Critical        3932        0.08\n",
       "Low             2424        0.05"
      ]
     },
     "metadata": {},
     "output_type": "display_data"
    },
    {
     "name": "stdout",
     "output_type": "stream",
     "text": [
      "Number of entries: 51290.\n",
      "Number of OrderPriority distinct entries: 4.\n",
      "Number of OrderPriority duplicated: 51286.\n",
      "Number of OrderPriority null: 0.\n",
      "\n",
      "\n",
      "\n"
     ]
    }
   ],
   "source": [
    "for col in cat_cols:\n",
    "    print(f\"Current column: {col}\")\n",
    "    print(\"-\" * 50)\n",
    "    display(value_counts(df, col).head())\n",
    "    checker(df, col)\n",
    "    print(\"\\n\\n\")"
   ]
  },
  {
   "cell_type": "code",
   "execution_count": 9,
   "metadata": {},
   "outputs": [
    {
     "data": {
      "image/png": "[encoded data removed]",
      "text/plain": [
       "<Figure size 600x300 with 1 Axes>"
      ]
     },
     "metadata": {},
     "output_type": "display_data"
    },
    {
     "data": {
      "image/png": "[encoded data removed]",
      "text/plain": [
       "<Figure size 600x300 with 1 Axes>"
      ]
     },
     "metadata": {},
     "output_type": "display_data"
    },
    {
     "data": {
      "image/png": "[encoded data removed]",
      "text/plain": [
       "<Figure size 600x300 with 1 Axes>"
      ]
     },
     "metadata": {},
     "output_type": "display_data"
    },
    {
     "data": {
      "image/png": "[encoded data removed]",
      "text/plain": [
       "<Figure size 800x600 with 1 Axes>"
      ]
     },
     "metadata": {},
     "output_type": "display_data"
    },
    {
     "data": {
      "image/png": "[encoded data removed]",
      "text/plain": [
       "<Figure size 600x300 with 1 Axes>"
      ]
     },
     "metadata": {},
     "output_type": "display_data"
    },
    {
     "data": {
      "image/png": "[encoded data removed]",
      "text/plain": [
       "<Figure size 800x600 with 1 Axes>"
      ]
     },
     "metadata": {},
     "output_type": "display_data"
    },
    {
     "data": {
      "image/png": "[encoded data removed]",
      "text/plain": [
       "<Figure size 600x300 with 1 Axes>"
      ]
     },
     "metadata": {},
     "output_type": "display_data"
    }
   ],
   "source": [
    "for col in ['ShipMode', 'Segment', 'Market', 'Region', 'Category', 'Sub-Category', 'OrderPriority']:\n",
    "\n",
    "\n",
    "    if df[col].nunique() > 10:\n",
    "        rot = 90\n",
    "        size = (8, 6)\n",
    "\n",
    "    else: \n",
    "        rot = 0\n",
    "        size = (6, 3)\n",
    "\n",
    "    plot_categoric_distribution(df, col, size=size, rotation=rot)"
   ]
  },
  {
   "cell_type": "markdown",
   "metadata": {},
   "source": [
    "`OrderID`: Order identifier. We observe several orders with the same entry, possibly containing different transactions. There are a total of 25,035 orders.\n",
    "\n",
    "`OrderDate`: Dates consist of several transactions, possibly linked to multiple orders and customers. There are a total of 1,430 different days.\n",
    "\n",
    "`ShipDate`: Similar to the previous field, dates consist of several transactions, possibly linked to multiple orders and customers. There are a total of 1,464 different days.\n",
    "\n",
    "`ShipMode`: There are 4 shipping modes in total. 60% of shipments are carried out via `StandardClass`, while only 5% correspond to `Same Day`, which could be considered the most urgent option.\n",
    "\n",
    "`CustomerID`: Unique identifier for each customer. There are a total of 1,590 different customers.\n",
    "\n",
    "`CustomerName`: Name of each customer. In this case, there are only 795 unique names. This suggests that different customers may have the same name, which is perfectly plausible, especially for common names. We will remove this column since we will retain the information from the IDs.\n",
    "\n",
    "`Segment`: Segment to which each transaction belongs. There are 3 options: `Consumer`, `Corporate`, `Home Office`, with `Consumer` being the most frequent, representing 52% of the entries. We will need to examine if this is a characteristic of customer types.\n",
    "\n",
    "`City`: City where the transaction takes place. There are a total of 3,635 different cities.\n",
    "\n",
    "`State`: State where the transaction takes place. There are a total of 1,094 different states.\n",
    "\n",
    "`Country`: Country where the transaction takes place. There are a total of 147 countries.\n",
    "\n",
    "`Market`: The different markets in which transactions occur. There are a total of 7 markets encompassing the mentioned countries.\n",
    "\n",
    "`Region`: The global or continental region where the transaction occurs. There are a total of 13 different regions.\n",
    "\n",
    "`ProductID`: Unique identifier for each product. There are a total of 10,292 products.\n",
    "\n",
    "`Category`: The category to which the product belongs. There are three different options: `Office Supplies`, `Technology`, and `Furniture`.\n",
    "\n",
    "`Sub-category`: The subcategory to which the products belong. There are 17 different subcategories.\n",
    "\n",
    "`ProductName`: Name of the product. There are 3,788 different names, so it is possible that different products (with different identifiers) have the same name.\n",
    "\n",
    "`OrderPriority`: Order priority among 4 available options: `Medium`, `High`, `Critical`, `Low`."
   ]
  },
  {
   "cell_type": "markdown",
   "metadata": {},
   "source": [
    "## Outliers"
   ]
  },
  {
   "cell_type": "code",
   "execution_count": 10,
   "metadata": {},
   "outputs": [
    {
     "data": {
      "image/png": "[encoded data removed]",
      "text/plain": [
       "<Figure size 1200x800 with 7 Axes>"
      ]
     },
     "metadata": {},
     "output_type": "display_data"
    }
   ],
   "source": [
    "plot_outliers(df, size = (12, 8))"
   ]
  },
  {
   "cell_type": "markdown",
   "metadata": {},
   "source": [
    "* `RowID`: No outliers are observed in this variable since it is a unique identifier, and all values appear to be evenly distributed within the expected range.\n",
    "\n",
    "* `PostalCode`: There are no obvious outliers in this variable. Although there may be null values previously mentioned, the numerical data is uniformly distributed. In any case, this variable is not of interest to us.\n",
    "\n",
    "* `Sales`: This variable shows a significant number of outliers in the upper range (sales greater than approximately 5,000). This aligns with the described high dispersion, where some transactions reach very high values.\n",
    "\n",
    "* `Quantity`: There are outliers in transactions involving quantities greater than 10. Most operations are concentrated between 2 and 6 units.\n",
    "\n",
    "* `Discount`: There are some outliers, especially for discounts over 50%. Most of the data is concentrated around low discounts (close to 0–20%).\n",
    "\n",
    "* `Profit outliers`: Profits exhibit a large number of outliers at both extremes. Significant losses (up to -6,600) and high profits (up to 8,400) are observed. This also reflects the wide dispersion mentioned earlier.\n",
    "\n",
    "* `ShippingCost`: Outliers are evident in shipments with costs exceeding 200. Most shipping costs fall within a narrow range close to 0.\n",
    "\n",
    "Outlier observations may represent valid but unusual transactions or could result from data errors that require cleaning."
   ]
  },
  {
   "cell_type": "markdown",
   "metadata": {},
   "source": [
    "### Multivariate outliers"
   ]
  },
  {
   "cell_type": "markdown",
   "metadata": {},
   "source": [
    "Let's examine the top 0.1% of the most outlying values according to the `LocalOutlierFactor` and `IsolationForest` methods."
   ]
  },
  {
   "cell_type": "code",
   "execution_count": 11,
   "metadata": {},
   "outputs": [],
   "source": [
    "num_cols = ['Sales', 'Quantity', 'Discount', 'Profit', 'ShippingCost']"
   ]
  },
  {
   "cell_type": "code",
   "execution_count": 12,
   "metadata": {},
   "outputs": [
    {
     "data": {
      "text/html": [
       "<div>\n",
       "<style scoped>\n",
       "    .dataframe tbody tr th:only-of-type {\n",
       "        vertical-align: middle;\n",
       "    }\n",
       "\n",
       "    .dataframe tbody tr th {\n",
       "        vertical-align: top;\n",
       "    }\n",
       "\n",
       "    .dataframe thead th {\n",
       "        text-align: right;\n",
       "    }\n",
       "</style>\n",
       "<table border=\"1\" class=\"dataframe\">\n",
       "  <thead>\n",
       "    <tr style=\"text-align: right;\">\n",
       "      <th></th>\n",
       "      <th>RowID</th>\n",
       "      <th>OrderID</th>\n",
       "      <th>OrderDate</th>\n",
       "      <th>ShipDate</th>\n",
       "      <th>ShipMode</th>\n",
       "      <th>CustomerID</th>\n",
       "      <th>CustomerName</th>\n",
       "      <th>Segment</th>\n",
       "      <th>City</th>\n",
       "      <th>State</th>\n",
       "      <th>...</th>\n",
       "      <th>Category</th>\n",
       "      <th>Sub-Category</th>\n",
       "      <th>ProductName</th>\n",
       "      <th>Sales</th>\n",
       "      <th>Quantity</th>\n",
       "      <th>Discount</th>\n",
       "      <th>Profit</th>\n",
       "      <th>ShippingCost</th>\n",
       "      <th>OrderPriority</th>\n",
       "      <th>outlier</th>\n",
       "    </tr>\n",
       "  </thead>\n",
       "  <tbody>\n",
       "    <tr>\n",
       "      <th>9</th>\n",
       "      <td>40936</td>\n",
       "      <td>CA-2012-116638</td>\n",
       "      <td>28-01-2012</td>\n",
       "      <td>31-01-2012</td>\n",
       "      <td>Second Class</td>\n",
       "      <td>JH-15985</td>\n",
       "      <td>Joseph Holt</td>\n",
       "      <td>Consumer</td>\n",
       "      <td>Concord</td>\n",
       "      <td>North Carolina</td>\n",
       "      <td>...</td>\n",
       "      <td>Furniture</td>\n",
       "      <td>Tables</td>\n",
       "      <td>Chromcraft Bull-Nose Wood Oval Conference Tables &amp; Bases</td>\n",
       "      <td>4297.644</td>\n",
       "      <td>13</td>\n",
       "      <td>0.4</td>\n",
       "      <td>-1862.3124</td>\n",
       "      <td>865.74</td>\n",
       "      <td>Critical</td>\n",
       "      <td>-1</td>\n",
       "    </tr>\n",
       "    <tr>\n",
       "      <th>17</th>\n",
       "      <td>12069</td>\n",
       "      <td>ES-2014-1651774</td>\n",
       "      <td>08-09-2014</td>\n",
       "      <td>14-09-2014</td>\n",
       "      <td>Standard Class</td>\n",
       "      <td>PJ-18835</td>\n",
       "      <td>Patrick Jones</td>\n",
       "      <td>Corporate</td>\n",
       "      <td>Prato</td>\n",
       "      <td>Tuscany</td>\n",
       "      <td>...</td>\n",
       "      <td>Office Supplies</td>\n",
       "      <td>Appliances</td>\n",
       "      <td>Hoover Stove, Red</td>\n",
       "      <td>7958.580</td>\n",
       "      <td>14</td>\n",
       "      <td>0.0</td>\n",
       "      <td>3979.0800</td>\n",
       "      <td>778.32</td>\n",
       "      <td>Low</td>\n",
       "      <td>-1</td>\n",
       "    </tr>\n",
       "    <tr>\n",
       "      <th>37</th>\n",
       "      <td>31980</td>\n",
       "      <td>US-2014-168116</td>\n",
       "      <td>05-11-2014</td>\n",
       "      <td>05-11-2014</td>\n",
       "      <td>Same Day</td>\n",
       "      <td>GT-14635</td>\n",
       "      <td>Grant Thornton</td>\n",
       "      <td>Corporate</td>\n",
       "      <td>Burlington</td>\n",
       "      <td>North Carolina</td>\n",
       "      <td>...</td>\n",
       "      <td>Technology</td>\n",
       "      <td>Machines</td>\n",
       "      <td>Cubify CubeX 3D Printer Triple Head Print</td>\n",
       "      <td>7999.980</td>\n",
       "      <td>4</td>\n",
       "      <td>0.5</td>\n",
       "      <td>-3839.9904</td>\n",
       "      <td>674.82</td>\n",
       "      <td>High</td>\n",
       "      <td>-1</td>\n",
       "    </tr>\n",
       "    <tr>\n",
       "      <th>45</th>\n",
       "      <td>35395</td>\n",
       "      <td>CA-2011-116904</td>\n",
       "      <td>23-09-2011</td>\n",
       "      <td>28-09-2011</td>\n",
       "      <td>Standard Class</td>\n",
       "      <td>SC-20095</td>\n",
       "      <td>Sanjit Chand</td>\n",
       "      <td>Consumer</td>\n",
       "      <td>Minneapolis</td>\n",
       "      <td>Minnesota</td>\n",
       "      <td>...</td>\n",
       "      <td>Office Supplies</td>\n",
       "      <td>Binders</td>\n",
       "      <td>Ibico EPK-21 Electric Binding System</td>\n",
       "      <td>9449.950</td>\n",
       "      <td>5</td>\n",
       "      <td>0.0</td>\n",
       "      <td>4630.4755</td>\n",
       "      <td>655.61</td>\n",
       "      <td>Medium</td>\n",
       "      <td>-1</td>\n",
       "    </tr>\n",
       "    <tr>\n",
       "      <th>110</th>\n",
       "      <td>35574</td>\n",
       "      <td>US-2013-107440</td>\n",
       "      <td>17-04-2013</td>\n",
       "      <td>21-04-2013</td>\n",
       "      <td>Standard Class</td>\n",
       "      <td>BS-11365</td>\n",
       "      <td>Bill Shonely</td>\n",
       "      <td>Corporate</td>\n",
       "      <td>Lakewood</td>\n",
       "      <td>New Jersey</td>\n",
       "      <td>...</td>\n",
       "      <td>Technology</td>\n",
       "      <td>Machines</td>\n",
       "      <td>3D Systems Cube Printer, 2nd Generation, Magenta</td>\n",
       "      <td>9099.930</td>\n",
       "      <td>7</td>\n",
       "      <td>0.0</td>\n",
       "      <td>2365.9818</td>\n",
       "      <td>516.91</td>\n",
       "      <td>Medium</td>\n",
       "      <td>-1</td>\n",
       "    </tr>\n",
       "  </tbody>\n",
       "</table>\n",
       "<p>5 rows × 25 columns</p>\n",
       "</div>"
      ],
      "text/plain": [
       "     RowID          OrderID   OrderDate    ShipDate        ShipMode  \\\n",
       "9    40936   CA-2012-116638  28-01-2012  31-01-2012    Second Class   \n",
       "17   12069  ES-2014-1651774  08-09-2014  14-09-2014  Standard Class   \n",
       "37   31980   US-2014-168116  05-11-2014  05-11-2014        Same Day   \n",
       "45   35395   CA-2011-116904  23-09-2011  28-09-2011  Standard Class   \n",
       "110  35574   US-2013-107440  17-04-2013  21-04-2013  Standard Class   \n",
       "\n",
       "    CustomerID    CustomerName    Segment         City           State  ...  \\\n",
       "9     JH-15985     Joseph Holt   Consumer      Concord  North Carolina  ...   \n",
       "17    PJ-18835   Patrick Jones  Corporate        Prato         Tuscany  ...   \n",
       "37    GT-14635  Grant Thornton  Corporate   Burlington  North Carolina  ...   \n",
       "45    SC-20095    Sanjit Chand   Consumer  Minneapolis       Minnesota  ...   \n",
       "110   BS-11365    Bill Shonely  Corporate     Lakewood      New Jersey  ...   \n",
       "\n",
       "            Category  Sub-Category  \\\n",
       "9          Furniture        Tables   \n",
       "17   Office Supplies    Appliances   \n",
       "37        Technology      Machines   \n",
       "45   Office Supplies       Binders   \n",
       "110       Technology      Machines   \n",
       "\n",
       "                                                  ProductName     Sales  \\\n",
       "9    Chromcraft Bull-Nose Wood Oval Conference Tables & Bases  4297.644   \n",
       "17                                          Hoover Stove, Red  7958.580   \n",
       "37                  Cubify CubeX 3D Printer Triple Head Print  7999.980   \n",
       "45                       Ibico EPK-21 Electric Binding System  9449.950   \n",
       "110          3D Systems Cube Printer, 2nd Generation, Magenta  9099.930   \n",
       "\n",
       "    Quantity Discount     Profit ShippingCost  OrderPriority  outlier  \n",
       "9         13      0.4 -1862.3124       865.74       Critical       -1  \n",
       "17        14      0.0  3979.0800       778.32            Low       -1  \n",
       "37         4      0.5 -3839.9904       674.82           High       -1  \n",
       "45         5      0.0  4630.4755       655.61         Medium       -1  \n",
       "110        7      0.0  2365.9818       516.91         Medium       -1  \n",
       "\n",
       "[5 rows x 25 columns]"
      ]
     },
     "execution_count": 12,
     "metadata": {},
     "output_type": "execute_result"
    }
   ],
   "source": [
    "df_outliers_lof = find_outliers(df, num_cols, method=\"lof\", contamination=0.001)[0]\n",
    "\n",
    "df_outliers_lof[df_outliers_lof['outlier'] == -1].head()"
   ]
  },
  {
   "cell_type": "code",
   "execution_count": 13,
   "metadata": {},
   "outputs": [
    {
     "data": {
      "text/html": [
       "<div>\n",
       "<style scoped>\n",
       "    .dataframe tbody tr th:only-of-type {\n",
       "        vertical-align: middle;\n",
       "    }\n",
       "\n",
       "    .dataframe tbody tr th {\n",
       "        vertical-align: top;\n",
       "    }\n",
       "\n",
       "    .dataframe thead th {\n",
       "        text-align: right;\n",
       "    }\n",
       "</style>\n",
       "<table border=\"1\" class=\"dataframe\">\n",
       "  <thead>\n",
       "    <tr style=\"text-align: right;\">\n",
       "      <th></th>\n",
       "      <th>RowID</th>\n",
       "      <th>OrderID</th>\n",
       "      <th>OrderDate</th>\n",
       "      <th>ShipDate</th>\n",
       "      <th>ShipMode</th>\n",
       "      <th>CustomerID</th>\n",
       "      <th>CustomerName</th>\n",
       "      <th>Segment</th>\n",
       "      <th>City</th>\n",
       "      <th>State</th>\n",
       "      <th>...</th>\n",
       "      <th>Category</th>\n",
       "      <th>Sub-Category</th>\n",
       "      <th>ProductName</th>\n",
       "      <th>Sales</th>\n",
       "      <th>Quantity</th>\n",
       "      <th>Discount</th>\n",
       "      <th>Profit</th>\n",
       "      <th>ShippingCost</th>\n",
       "      <th>OrderPriority</th>\n",
       "      <th>outlier</th>\n",
       "    </tr>\n",
       "  </thead>\n",
       "  <tbody>\n",
       "    <tr>\n",
       "      <th>2</th>\n",
       "      <td>25330</td>\n",
       "      <td>IN-2013-71249</td>\n",
       "      <td>17-10-2013</td>\n",
       "      <td>18-10-2013</td>\n",
       "      <td>First Class</td>\n",
       "      <td>CR-12730</td>\n",
       "      <td>Craig Reiter</td>\n",
       "      <td>Consumer</td>\n",
       "      <td>Brisbane</td>\n",
       "      <td>Queensland</td>\n",
       "      <td>...</td>\n",
       "      <td>Technology</td>\n",
       "      <td>Phones</td>\n",
       "      <td>Nokia Smart Phone, with Caller ID</td>\n",
       "      <td>5175.171</td>\n",
       "      <td>9</td>\n",
       "      <td>0.1</td>\n",
       "      <td>919.9710</td>\n",
       "      <td>915.49</td>\n",
       "      <td>Medium</td>\n",
       "      <td>-1</td>\n",
       "    </tr>\n",
       "    <tr>\n",
       "      <th>7</th>\n",
       "      <td>31192</td>\n",
       "      <td>IN-2012-86369</td>\n",
       "      <td>14-04-2012</td>\n",
       "      <td>18-04-2012</td>\n",
       "      <td>Standard Class</td>\n",
       "      <td>MB-18085</td>\n",
       "      <td>Mick Brown</td>\n",
       "      <td>Consumer</td>\n",
       "      <td>Hamilton</td>\n",
       "      <td>Waikato</td>\n",
       "      <td>...</td>\n",
       "      <td>Furniture</td>\n",
       "      <td>Tables</td>\n",
       "      <td>Chromcraft Conference Table, Fully Assembled</td>\n",
       "      <td>5244.840</td>\n",
       "      <td>6</td>\n",
       "      <td>0.0</td>\n",
       "      <td>996.4800</td>\n",
       "      <td>878.38</td>\n",
       "      <td>High</td>\n",
       "      <td>-1</td>\n",
       "    </tr>\n",
       "    <tr>\n",
       "      <th>8</th>\n",
       "      <td>40155</td>\n",
       "      <td>CA-2014-135909</td>\n",
       "      <td>14-10-2014</td>\n",
       "      <td>21-10-2014</td>\n",
       "      <td>Standard Class</td>\n",
       "      <td>JW-15220</td>\n",
       "      <td>Jane Waco</td>\n",
       "      <td>Corporate</td>\n",
       "      <td>Sacramento</td>\n",
       "      <td>California</td>\n",
       "      <td>...</td>\n",
       "      <td>Office Supplies</td>\n",
       "      <td>Binders</td>\n",
       "      <td>Fellowes PB500 Electric Punch Plastic Comb Binding Machine with Manual Bind</td>\n",
       "      <td>5083.960</td>\n",
       "      <td>5</td>\n",
       "      <td>0.2</td>\n",
       "      <td>1906.4850</td>\n",
       "      <td>867.69</td>\n",
       "      <td>Low</td>\n",
       "      <td>-1</td>\n",
       "    </tr>\n",
       "    <tr>\n",
       "      <th>9</th>\n",
       "      <td>40936</td>\n",
       "      <td>CA-2012-116638</td>\n",
       "      <td>28-01-2012</td>\n",
       "      <td>31-01-2012</td>\n",
       "      <td>Second Class</td>\n",
       "      <td>JH-15985</td>\n",
       "      <td>Joseph Holt</td>\n",
       "      <td>Consumer</td>\n",
       "      <td>Concord</td>\n",
       "      <td>North Carolina</td>\n",
       "      <td>...</td>\n",
       "      <td>Furniture</td>\n",
       "      <td>Tables</td>\n",
       "      <td>Chromcraft Bull-Nose Wood Oval Conference Tables &amp; Bases</td>\n",
       "      <td>4297.644</td>\n",
       "      <td>13</td>\n",
       "      <td>0.4</td>\n",
       "      <td>-1862.3124</td>\n",
       "      <td>865.74</td>\n",
       "      <td>Critical</td>\n",
       "      <td>-1</td>\n",
       "    </tr>\n",
       "    <tr>\n",
       "      <th>12</th>\n",
       "      <td>45794</td>\n",
       "      <td>SA-2011-1830</td>\n",
       "      <td>27-12-2011</td>\n",
       "      <td>29-12-2011</td>\n",
       "      <td>Second Class</td>\n",
       "      <td>MM-7260</td>\n",
       "      <td>Magdelene Morse</td>\n",
       "      <td>Consumer</td>\n",
       "      <td>Jizan</td>\n",
       "      <td>Jizan</td>\n",
       "      <td>...</td>\n",
       "      <td>Technology</td>\n",
       "      <td>Phones</td>\n",
       "      <td>Cisco Smart Phone, with Caller ID</td>\n",
       "      <td>2616.960</td>\n",
       "      <td>4</td>\n",
       "      <td>0.0</td>\n",
       "      <td>1151.4000</td>\n",
       "      <td>832.41</td>\n",
       "      <td>Critical</td>\n",
       "      <td>-1</td>\n",
       "    </tr>\n",
       "  </tbody>\n",
       "</table>\n",
       "<p>5 rows × 25 columns</p>\n",
       "</div>"
      ],
      "text/plain": [
       "    RowID         OrderID   OrderDate    ShipDate        ShipMode CustomerID  \\\n",
       "2   25330   IN-2013-71249  17-10-2013  18-10-2013     First Class   CR-12730   \n",
       "7   31192   IN-2012-86369  14-04-2012  18-04-2012  Standard Class   MB-18085   \n",
       "8   40155  CA-2014-135909  14-10-2014  21-10-2014  Standard Class   JW-15220   \n",
       "9   40936  CA-2012-116638  28-01-2012  31-01-2012    Second Class   JH-15985   \n",
       "12  45794    SA-2011-1830  27-12-2011  29-12-2011    Second Class    MM-7260   \n",
       "\n",
       "       CustomerName    Segment        City           State  ...  \\\n",
       "2      Craig Reiter   Consumer    Brisbane      Queensland  ...   \n",
       "7        Mick Brown   Consumer    Hamilton         Waikato  ...   \n",
       "8         Jane Waco  Corporate  Sacramento      California  ...   \n",
       "9       Joseph Holt   Consumer     Concord  North Carolina  ...   \n",
       "12  Magdelene Morse   Consumer       Jizan           Jizan  ...   \n",
       "\n",
       "           Category  Sub-Category  \\\n",
       "2        Technology        Phones   \n",
       "7         Furniture        Tables   \n",
       "8   Office Supplies       Binders   \n",
       "9         Furniture        Tables   \n",
       "12       Technology        Phones   \n",
       "\n",
       "                                                                    ProductName  \\\n",
       "2                                             Nokia Smart Phone, with Caller ID   \n",
       "7                                  Chromcraft Conference Table, Fully Assembled   \n",
       "8   Fellowes PB500 Electric Punch Plastic Comb Binding Machine with Manual Bind   \n",
       "9                      Chromcraft Bull-Nose Wood Oval Conference Tables & Bases   \n",
       "12                                            Cisco Smart Phone, with Caller ID   \n",
       "\n",
       "       Sales Quantity Discount     Profit ShippingCost  OrderPriority  outlier  \n",
       "2   5175.171        9      0.1   919.9710       915.49         Medium       -1  \n",
       "7   5244.840        6      0.0   996.4800       878.38           High       -1  \n",
       "8   5083.960        5      0.2  1906.4850       867.69            Low       -1  \n",
       "9   4297.644       13      0.4 -1862.3124       865.74       Critical       -1  \n",
       "12  2616.960        4      0.0  1151.4000       832.41       Critical       -1  \n",
       "\n",
       "[5 rows x 25 columns]"
      ]
     },
     "execution_count": 13,
     "metadata": {},
     "output_type": "execute_result"
    }
   ],
   "source": [
    "df_outliers_ifo = find_outliers(df, num_cols, method=\"ifo\", contamination=0.001)[0]\n",
    "\n",
    "df_outliers_ifo[df_outliers_ifo['outlier'] == -1].head()"
   ]
  },
  {
   "cell_type": "markdown",
   "metadata": {},
   "source": [
    "Analyzing the outliers one by one, some entries seem somewhat unusual; however, we cannot ensure that any are erroneous, so we will keep them."
   ]
  },
  {
   "cell_type": "markdown",
   "metadata": {},
   "source": [
    "## Plot correlation matrix"
   ]
  },
  {
   "cell_type": "code",
   "execution_count": 14,
   "metadata": {},
   "outputs": [
    {
     "data": {
      "image/png": "[encoded data removed]",
      "text/plain": [
       "<Figure size 800x800 with 2 Axes>"
      ]
     },
     "metadata": {},
     "output_type": "display_data"
    }
   ],
   "source": [
    "plot_correlation_matrix(df, size = (8, 8))"
   ]
  },
  {
   "cell_type": "markdown",
   "metadata": {},
   "source": [
    "* There is a significant positive correlation between `Sales` and `ShippingCost`. This suggests that higher sales volumes are associated with higher shipping costs, which makes sense given that shipping more products or more expensive products tends to cost more.\n",
    "\n",
    "* There is a moderate positive correlation between `Sales` and `Quantity`. This indicates that, while not a very strong relationship, larger quantities are generally associated with higher sales.\n",
    "\n",
    "* There is a moderate positive correlation between `Profit` and `Sales`. This implies that higher sales tend to generate more profits.\n",
    "\n",
    "* There is a moderate negative correlation between `Profit` and `Discount`. This suggests that applying discounts negatively affects profits, which is expected when reducing product prices."
   ]
  },
  {
   "cell_type": "code",
   "execution_count": 15,
   "metadata": {},
   "outputs": [
    {
     "data": {
      "text/plain": [
       "['OrderID',\n",
       " 'OrderDate',\n",
       " 'ShipDate',\n",
       " 'ShipMode',\n",
       " 'CustomerID',\n",
       " 'CustomerName',\n",
       " 'Segment',\n",
       " 'City',\n",
       " 'State',\n",
       " 'Country',\n",
       " 'Market',\n",
       " 'Region',\n",
       " 'ProductID',\n",
       " 'Category',\n",
       " 'Sub-Category',\n",
       " 'ProductName',\n",
       " 'OrderPriority']"
      ]
     },
     "execution_count": 15,
     "metadata": {},
     "output_type": "execute_result"
    }
   ],
   "source": [
    "cat_cols"
   ]
  },
  {
   "cell_type": "code",
   "execution_count": 19,
   "metadata": {},
   "outputs": [
    {
     "data": {
      "image/png": "[encoded data removed]",
      "text/plain": [
       "<Figure size 600x600 with 5 Axes>"
      ]
     },
     "metadata": {},
     "output_type": "display_data"
    }
   ],
   "source": [
    "plot_groupby(df, 'ShipMode', num_cols, size=(6, 6), method='median')"
   ]
  },
  {
   "cell_type": "markdown",
   "metadata": {},
   "source": [
    "---"
   ]
  },
  {
   "cell_type": "markdown",
   "metadata": {},
   "source": [
    "Vamos a comenzar eliminando las columnas que no nos aportan información útil.\n",
    "\n",
    "`RowID`: Como es un identificador único vamos a pasarlo al índice."
   ]
  },
  {
   "cell_type": "code",
   "execution_count": null,
   "metadata": {},
   "outputs": [],
   "source": [
    "df.set_index('RowID', inplace=True)"
   ]
  },
  {
   "cell_type": "code",
   "execution_count": null,
   "metadata": {},
   "outputs": [],
   "source": [
    "#drop_columns = ['PostalCode', 'CustomerName', 'ProductName']\n",
    "\n",
    "df.drop(columns='PostalCode', inplace=True)"
   ]
  },
  {
   "cell_type": "markdown",
   "metadata": {},
   "source": [
    "---"
   ]
  },
  {
   "cell_type": "markdown",
   "metadata": {},
   "source": [
    "### Nota importante"
   ]
  },
  {
   "cell_type": "markdown",
   "metadata": {},
   "source": [
    "Los datos parecen consistir en una tabla en los que cada fila es una operación, pero también tenemos información sobre pedidos, clientes y productos. En caso de querer realizar algún tipo de análisis sobre estos elementos deberemos agregar los datos agrupándolos en función del tipo de análisis deseado."
   ]
  },
  {
   "cell_type": "markdown",
   "metadata": {},
   "source": [
    "---"
   ]
  },
  {
   "cell_type": "markdown",
   "metadata": {},
   "source": [
    "### Analicemos las fechas con más detalle"
   ]
  },
  {
   "cell_type": "markdown",
   "metadata": {},
   "source": [
    "Convertimos las fechas a DateTime"
   ]
  },
  {
   "cell_type": "code",
   "execution_count": null,
   "metadata": {},
   "outputs": [],
   "source": [
    "df['OrderDate'] = pd.to_datetime(df['OrderDate'])\n",
    "df['ShipDate'] = pd.to_datetime(df['ShipDate'])"
   ]
  },
  {
   "cell_type": "markdown",
   "metadata": {},
   "source": [
    "Creamos una columna con cuánto se tarda en enviar el pedido"
   ]
  },
  {
   "cell_type": "code",
   "execution_count": null,
   "metadata": {},
   "outputs": [],
   "source": [
    "df['TimeToShip'] = (df['ShipDate'] - df['OrderDate'])\n",
    "\n",
    "value_counts(df, 'TimeToShip')"
   ]
  },
  {
   "cell_type": "markdown",
   "metadata": {},
   "source": [
    "Vemos que lo más frecuente es que tarde 4 o 5 días. Como máximo tarda una semana (7 días). Obviamente no hay ningún pedido que se envíe antes de que se haya registrado."
   ]
  },
  {
   "cell_type": "code",
   "execution_count": null,
   "metadata": {},
   "outputs": [],
   "source": [
    "print(f\"The first day is {df['OrderDate'].dt.date.min()} and last {df['OrderDate'].dt.date.max()}.\")"
   ]
  },
  {
   "cell_type": "code",
   "execution_count": null,
   "metadata": {},
   "outputs": [],
   "source": [
    "plot_temporal_evolution(df, 'Profit', 'OrderDate')"
   ]
  },
  {
   "cell_type": "markdown",
   "metadata": {},
   "source": [
    "No hay tendencias ni patrones apreciables en la evolución temporal del `Profit`"
   ]
  },
  {
   "cell_type": "markdown",
   "metadata": {},
   "source": [
    "---"
   ]
  },
  {
   "cell_type": "markdown",
   "metadata": {},
   "source": [
    "`Customer`\n",
    "\n",
    "Analicemos con más detalle los clientes"
   ]
  },
  {
   "cell_type": "markdown",
   "metadata": {},
   "source": [
    "Veamos si existe una corrrespondencia adecuada entre los identificadores y los nombres"
   ]
  },
  {
   "cell_type": "code",
   "execution_count": null,
   "metadata": {},
   "outputs": [],
   "source": [
    "df[['CustomerID', 'CustomerName']].value_counts().reset_index().sort_values(by='CustomerName').head(12)"
   ]
  },
  {
   "cell_type": "code",
   "execution_count": null,
   "metadata": {},
   "outputs": [],
   "source": [
    "df[['CustomerID', 'CustomerName']].value_counts().reset_index().sort_values(by='CustomerName').tail(12)"
   ]
  },
  {
   "cell_type": "markdown",
   "metadata": {},
   "source": [
    "Parece bastente claro que hay varias personas con diferentes ID que realmente son la misma puesto que todos los nombres se repiten dos veces y el ID sigue el mismo patrón. El motivo es que que estos ID parecen estar más bien mal escritos, en lugar de seguir una distribución aleatoria, en cuyo caso la relación no sería tan evidente.\n",
    "\n",
    "Vamos a solucionar el problema de los ID. Éstos parecen comenzar con las iniciales del nombre y el apellido del cliente, seguido de un número. Este número coincide en las últimas 2 o 3 cifras, mientras que en el resto tenemos cifras faltantes o no coinciden por un dígito.\n",
    "\n"
   ]
  },
  {
   "cell_type": "code",
   "execution_count": null,
   "metadata": {},
   "outputs": [],
   "source": [
    "def simplify_customer_id(customer_id):\n",
    "    # Separar el prefijo y el número\n",
    "    prefix, number = customer_id.split(\"-\")\n",
    "    # Tomar las últimas 3 cifras del número, completando con ceros si es necesario\n",
    "    simplified_number = f\"{int(number):03d}\"[-3:]\n",
    "    # Reconstruir el ID simplificado\n",
    "    return f\"{prefix}-{simplified_number}\"\n",
    "\n",
    "\n",
    "df[\"CustomerID\"] = df[\"CustomerID\"].apply(simplify_customer_id)"
   ]
  },
  {
   "cell_type": "code",
   "execution_count": null,
   "metadata": {},
   "outputs": [],
   "source": [
    "df[['CustomerID', 'CustomerName']].value_counts().reset_index().sort_values(by='CustomerName').tail(50)"
   ]
  },
  {
   "cell_type": "markdown",
   "metadata": {},
   "source": [
    "Como ya está arreglado, podemos utilizar directamente `CustomerID` como identificador y eliminar el nombre"
   ]
  },
  {
   "cell_type": "code",
   "execution_count": null,
   "metadata": {},
   "outputs": [],
   "source": [
    "df.drop(columns='CustomerName', inplace=True)"
   ]
  },
  {
   "cell_type": "markdown",
   "metadata": {},
   "source": [
    "Creamos un nuevo dataframe para los clientes. Las variables que tienen sentido en este caso son:"
   ]
  },
  {
   "cell_type": "code",
   "execution_count": null,
   "metadata": {},
   "outputs": [],
   "source": [
    "df.columns"
   ]
  },
  {
   "cell_type": "markdown",
   "metadata": {},
   "source": [
    "Antes de nada vamos a comprobar que cada cliente efectivamente está en un único segmento."
   ]
  },
  {
   "cell_type": "code",
   "execution_count": null,
   "metadata": {},
   "outputs": [],
   "source": [
    "df.groupby('CustomerID')['Segment'].nunique().sort_values(ascending=False).head(1)"
   ]
  },
  {
   "cell_type": "markdown",
   "metadata": {},
   "source": [
    "Vemos que el cliente con más segmentos diferentes solamente tiene uno (como todos los clientes), por lo que concluimos que cada cliente tiene una relación unívoca con un segmento."
   ]
  },
  {
   "cell_type": "markdown",
   "metadata": {},
   "source": [
    "Veamos qué ocurre con las variables que se refieren a localizaciones: `City`, `State`, `Country`, `Market`, `Region`"
   ]
  },
  {
   "cell_type": "code",
   "execution_count": null,
   "metadata": {},
   "outputs": [],
   "source": [
    "columns = ['City', 'State', 'Country', 'Market', 'Region']\n",
    "\n",
    "for col in columns:\n",
    "\n",
    "    print(f\"Let's check {col}\")\n",
    "    display(df.groupby('CustomerID')[col].nunique().describe())\n",
    "\n",
    "    quick_plot_numeric(df.groupby('CustomerID')[col].nunique().reset_index().rename(columns={col: f'Number of {col}'}), f'Number of {col}', rotation=0, size=(7,4))\n"
   ]
  },
  {
   "cell_type": "markdown",
   "metadata": {},
   "source": [
    "No sabemos si estas localizaciones se refieren al lugar desde el que opera cada cliente o con el que lo hacen para llevar a cabo sus pedidos. \n",
    "\n",
    "Sin embargo, todos los valores son bastante altos, no parece realista que el cliente con menos diversidad geográfica haya tratado con 13 ciudades, 13 estados, 8 países, 5 mercados y 6 regiones.\n",
    "\n",
    "Por este motivo, no incluiremos estas columnas en la agrupación de clientes."
   ]
  },
  {
   "cell_type": "code",
   "execution_count": null,
   "metadata": {},
   "outputs": [],
   "source": [
    "df.columns"
   ]
  },
  {
   "cell_type": "markdown",
   "metadata": {},
   "source": [
    "Por tanto, las columnas que nos interesan por cada cliente son:\n",
    "\n",
    "* `Segment`\n",
    "\n",
    "* Suma total de `Sales`\n",
    "\n",
    "* Suma total de `Quantity`\n",
    "\n",
    "* Suma total de "
   ]
  },
  {
   "cell_type": "code",
   "execution_count": null,
   "metadata": {},
   "outputs": [],
   "source": [
    "df.groupby('CustomerID').agg({\n",
    "                            'Segment': 'first',\n",
    "                            'ProductID': 'nunique', \n",
    "    \n",
    "    'Sales': 'sum',\n",
    "                              'Quantity': 'sum',\n",
    "                              'Profit': 'sum',\n",
    "                              'ShippingCost': 'sum',\n",
    "\n",
    "                              'CustomerID': 'value_counts'})"
   ]
  },
  {
   "cell_type": "code",
   "execution_count": null,
   "metadata": {},
   "outputs": [],
   "source": [
    "df.columns"
   ]
  },
  {
   "cell_type": "markdown",
   "metadata": {},
   "source": [
    "---"
   ]
  },
  {
   "cell_type": "markdown",
   "metadata": {},
   "source": [
    "Análisis de `Product` (categoría y sub-categoría)"
   ]
  },
  {
   "cell_type": "code",
   "execution_count": null,
   "metadata": {},
   "outputs": [],
   "source": [
    "df[['ProductID', 'ProductName']].value_counts().reset_index().sort_values(by='ProductName').head()"
   ]
  },
  {
   "cell_type": "code",
   "execution_count": null,
   "metadata": {},
   "outputs": [],
   "source": [
    "df[['ProductID', 'ProductName']].value_counts().reset_index().sort_values(by='ProductName').tail()"
   ]
  },
  {
   "cell_type": "markdown",
   "metadata": {},
   "source": [
    "En este caso sucede algo similar a clientes. Tenemos que las columnas `ProductName` y `ProductID` no parecen relacionarse de manera única. \n",
    "\n",
    "Sin embargo, en este caso es más complicado poder determinar si se trata un error. En este caso es posible que un mismo producto tenga varios ID y el mismo nombre si hay diferentes versiones.\n",
    "\n",
    "Como no hay un patrón claro, como sí ocurría con clientes, vamos a suponer que los ID identifican adecuadamente los productos de forma única."
   ]
  },
  {
   "cell_type": "markdown",
   "metadata": {},
   "source": [
    "Antes de nada vamos a comprobar que cada cliente efectivamente está en una única categoría y subcategoría."
   ]
  },
  {
   "cell_type": "code",
   "execution_count": null,
   "metadata": {},
   "outputs": [],
   "source": [
    "df.groupby('ProductID')['Category'].nunique().sort_values(ascending=False).head(2)"
   ]
  },
  {
   "cell_type": "code",
   "execution_count": null,
   "metadata": {},
   "outputs": [],
   "source": [
    "df.groupby('ProductID')['Sub-Category'].nunique().sort_values(ascending=False).head(2)"
   ]
  },
  {
   "cell_type": "markdown",
   "metadata": {},
   "source": [
    "Vemos que las categorías son únicas por cada producto mientras que las subcategorías también lo son con una excepción: hay un producto que aparece como perteneciente a dos subcategorías diferentes.\n",
    "\n",
    "Vamos a tomar la primera aparición de la sub-categoría para agrupar, ignorando de esta forma esta excepción.\n",
    "\n",
    "Veamos cómo se distribuye la cantidad de productos "
   ]
  },
  {
   "cell_type": "code",
   "execution_count": null,
   "metadata": {},
   "outputs": [],
   "source": [
    "df.groupby('ProductID')[['Category', 'Sub-Category']].first().groupby('Category')['Sub-Category'].value_counts()"
   ]
  },
  {
   "cell_type": "markdown",
   "metadata": {},
   "source": [
    "GRÁFICO TEMPORAL (hecho con chatgpt)"
   ]
  },
  {
   "cell_type": "code",
   "execution_count": null,
   "metadata": {},
   "outputs": [],
   "source": [
    "# Agrupar y calcular las frecuencias de subcategorías dentro de cada categoría\n",
    "frequencies = (\n",
    "    df.groupby('ProductID')[['Category', 'Sub-Category']]\n",
    "    .first()\n",
    "    .groupby(['Category', 'Sub-Category'])\n",
    "    .size()\n",
    "    .unstack(fill_value=0)\n",
    ")\n",
    "\n",
    "# Crear subplots: uno por categoría\n",
    "categories = frequencies.index\n",
    "num_categories = len(categories)\n",
    "\n",
    "fig, axes = plt.subplots(num_categories, 1, figsize=(10, 8), sharex=True, sharey=True)\n",
    "\n",
    "for i, category in enumerate(categories):\n",
    "    # Obtener las subcategorías y sus frecuencias correspondientes a esta categoría\n",
    "    subcategory_frequencies = frequencies.loc[category].sort_values(ascending=False)\n",
    "    \n",
    "    # Graficar las subcategorías\n",
    "    axes[i].bar(subcategory_frequencies.index, subcategory_frequencies.values, color='skyblue')\n",
    "    \n",
    "    # Títulos y etiquetas\n",
    "    axes[i].set_title(category)\n",
    "    axes[i].set_ylabel('Frequency')\n",
    "    axes[i].tick_params(axis='x', rotation=45)\n",
    "\n",
    "plt.tight_layout()\n",
    "plt.show()\n"
   ]
  },
  {
   "cell_type": "markdown",
   "metadata": {},
   "source": [
    "Vemos que cada sub-categoría pertenece a una categoría diferente y que la distribución de productos es más o menos homogénea, al menos en orden de magnitud."
   ]
  },
  {
   "cell_type": "markdown",
   "metadata": {},
   "source": [
    "---"
   ]
  },
  {
   "cell_type": "markdown",
   "metadata": {},
   "source": [
    "`Order`\n",
    "\n",
    "Analicemos ahora qué sucede con los pedidos. En este caso solo tenemos `OrderID`, por lo que podemos comprobar a cuántos clientes y productos corresponde cada uno."
   ]
  },
  {
   "cell_type": "code",
   "execution_count": null,
   "metadata": {},
   "outputs": [],
   "source": [
    "df_orders_customer = df.groupby('OrderID')['CustomerID'].nunique().sort_values(ascending=False).reset_index()\n",
    "\n",
    "df_orders_customer.head()"
   ]
  },
  {
   "cell_type": "code",
   "execution_count": null,
   "metadata": {},
   "outputs": [],
   "source": [
    "value_counts(df_orders_customer, 'CustomerID')"
   ]
  },
  {
   "cell_type": "code",
   "execution_count": null,
   "metadata": {},
   "outputs": [],
   "source": [
    "quick_plot_numeric(df_orders_customer.rename(columns={'CustomerID': f'Number of Orders'}), f'Number of Orders', rotation=0, size=(7,4))"
   ]
  },
  {
   "cell_type": "markdown",
   "metadata": {},
   "source": [
    "La enorme mayoría de pedidos se corresponden con un único cliente. Sin embargo, existe aproximadamente un 3% de pedidos con más de un cliente asignado en función de la transacción.\n",
    "\n",
    "Sin más información adicional sobre la naturaleza del comercio es difícil saber si se puede tratar de un error o si esto sí es posible."
   ]
  },
  {
   "cell_type": "markdown",
   "metadata": {},
   "source": [
    "Veamos ahora por productos:"
   ]
  },
  {
   "cell_type": "code",
   "execution_count": null,
   "metadata": {},
   "outputs": [],
   "source": [
    "df_orders_product = df.groupby('OrderID')['ProductID'].nunique().sort_values(ascending=False).reset_index()\n",
    "\n",
    "df_orders_product.head()"
   ]
  },
  {
   "cell_type": "code",
   "execution_count": null,
   "metadata": {},
   "outputs": [],
   "source": [
    "value_counts(df_orders_product, 'ProductID')"
   ]
  },
  {
   "cell_type": "code",
   "execution_count": null,
   "metadata": {},
   "outputs": [],
   "source": [
    "quick_plot_numeric(df_orders_product.rename(columns={'ProductID': f'Number of Products'}), f'Number of Products', rotation=0, size=(7,4))"
   ]
  },
  {
   "cell_type": "markdown",
   "metadata": {},
   "source": [
    "En este caso, la mitad de los pedidos están asociados a 1 único producto mientras que un 25% tienen 2 productos y el resto constan de 3 o más. Esto es razonable ya que en muchas ocasiones un pedido puede constar de varios productos."
   ]
  },
  {
   "cell_type": "markdown",
   "metadata": {},
   "source": [
    "---"
   ]
  },
  {
   "cell_type": "markdown",
   "metadata": {},
   "source": [
    "Veamos qué pasa con profit"
   ]
  },
  {
   "cell_type": "code",
   "execution_count": null,
   "metadata": {},
   "outputs": [],
   "source": [
    "df['Sales'] * (1 - df['Discount']) - df['Profit'] - df['ShippingCost']"
   ]
  },
  {
   "cell_type": "code",
   "execution_count": null,
   "metadata": {},
   "outputs": [],
   "source": [
    "df.columns"
   ]
  },
  {
   "cell_type": "code",
   "execution_count": 17,
   "metadata": {},
   "outputs": [
    {
     "data": {
      "text/plain": [
       "Market  Region        \n",
       "APAC    Central Asia      2048\n",
       "        North Asia        2338\n",
       "        Oceania           3487\n",
       "        Southeast Asia    3129\n",
       "Africa  Africa            4587\n",
       "Canada  Canada             384\n",
       "EMEA    EMEA              5029\n",
       "EU      Central           5822\n",
       "        North             2141\n",
       "        South             2037\n",
       "LATAM   Caribbean         1690\n",
       "        Central           2972\n",
       "        North             2644\n",
       "        South             2988\n",
       "US      Central           2323\n",
       "        East              2848\n",
       "        South             1620\n",
       "        West              3203\n",
       "Name: Region, dtype: int64"
      ]
     },
     "execution_count": 17,
     "metadata": {},
     "output_type": "execute_result"
    }
   ],
   "source": [
    "df.groupby(['Market', 'Region'])['Region'].count()"
   ]
  }
 ],
 "metadata": {
  "kernelspec": {
   "display_name": "proyecto7",
   "language": "python",
   "name": "python3"
  },
  "language_info": {
   "codemirror_mode": {
    "name": "ipython",
    "version": 3
   },
   "file_extension": ".py",
   "mimetype": "text/x-python",
   "name": "python",
   "nbconvert_exporter": "python",
   "pygments_lexer": "ipython3",
   "version": "3.12.7"
  }
 },
 "nbformat": 4,
 "nbformat_minor": 2
}
